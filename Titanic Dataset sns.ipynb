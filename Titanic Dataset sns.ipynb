{
 "cells": [
  {
   "cell_type": "raw",
   "id": "6a96fdaf-9395-4819-aed4-410cc208243b",
   "metadata": {},
   "source": [
    "This dataset estimates what kind of people would survive the accident and which passengers actually survived the wreck"
   ]
  },
  {
   "cell_type": "markdown",
   "id": "ccb174de-3e08-4c28-9f20-e8937f883ecc",
   "metadata": {},
   "source": [
    "**Import the Libraries**"
   ]
  },
  {
   "cell_type": "code",
   "execution_count": 3,
   "id": "66714291-044c-4d44-b8d3-8054176deaaa",
   "metadata": {},
   "outputs": [],
   "source": [
    "# import the libraries\n",
    "import pandas as pd\n",
    "import numpy as np"
   ]
  },
  {
   "cell_type": "code",
   "execution_count": 4,
   "id": "89e32d58-4c5a-400d-9021-e904005a60a2",
   "metadata": {},
   "outputs": [],
   "source": [
    "# import the visualizations libraries\n",
    "import matplotlib.pyplot as plt\n",
    "import seaborn as sns\n",
    "import warnings\n",
    "warnings.filterwarnings(\"ignore\")"
   ]
  },
  {
   "cell_type": "markdown",
   "id": "c4d1db6e-afa1-4741-a821-62ad63d03df3",
   "metadata": {},
   "source": [
    "**Loading the dataset**"
   ]
  },
  {
   "cell_type": "code",
   "execution_count": 6,
   "id": "0359b304-d3aa-499c-a5e9-c971589bd751",
   "metadata": {},
   "outputs": [],
   "source": [
    "df = sns.load_dataset(\"titanic\")"
   ]
  },
  {
   "cell_type": "code",
   "execution_count": 7,
   "id": "6fcc33fd-9c3b-40ce-8cf0-75aaa245511a",
   "metadata": {},
   "outputs": [
    {
     "data": {
      "text/html": [
       "<div>\n",
       "<style scoped>\n",
       "    .dataframe tbody tr th:only-of-type {\n",
       "        vertical-align: middle;\n",
       "    }\n",
       "\n",
       "    .dataframe tbody tr th {\n",
       "        vertical-align: top;\n",
       "    }\n",
       "\n",
       "    .dataframe thead th {\n",
       "        text-align: right;\n",
       "    }\n",
       "</style>\n",
       "<table border=\"1\" class=\"dataframe\">\n",
       "  <thead>\n",
       "    <tr style=\"text-align: right;\">\n",
       "      <th></th>\n",
       "      <th>survived</th>\n",
       "      <th>pclass</th>\n",
       "      <th>sex</th>\n",
       "      <th>age</th>\n",
       "      <th>sibsp</th>\n",
       "      <th>parch</th>\n",
       "      <th>fare</th>\n",
       "      <th>embarked</th>\n",
       "      <th>class</th>\n",
       "      <th>who</th>\n",
       "      <th>adult_male</th>\n",
       "      <th>deck</th>\n",
       "      <th>embark_town</th>\n",
       "      <th>alive</th>\n",
       "      <th>alone</th>\n",
       "    </tr>\n",
       "  </thead>\n",
       "  <tbody>\n",
       "    <tr>\n",
       "      <th>0</th>\n",
       "      <td>0</td>\n",
       "      <td>3</td>\n",
       "      <td>male</td>\n",
       "      <td>22.0</td>\n",
       "      <td>1</td>\n",
       "      <td>0</td>\n",
       "      <td>7.2500</td>\n",
       "      <td>S</td>\n",
       "      <td>Third</td>\n",
       "      <td>man</td>\n",
       "      <td>True</td>\n",
       "      <td>NaN</td>\n",
       "      <td>Southampton</td>\n",
       "      <td>no</td>\n",
       "      <td>False</td>\n",
       "    </tr>\n",
       "    <tr>\n",
       "      <th>1</th>\n",
       "      <td>1</td>\n",
       "      <td>1</td>\n",
       "      <td>female</td>\n",
       "      <td>38.0</td>\n",
       "      <td>1</td>\n",
       "      <td>0</td>\n",
       "      <td>71.2833</td>\n",
       "      <td>C</td>\n",
       "      <td>First</td>\n",
       "      <td>woman</td>\n",
       "      <td>False</td>\n",
       "      <td>C</td>\n",
       "      <td>Cherbourg</td>\n",
       "      <td>yes</td>\n",
       "      <td>False</td>\n",
       "    </tr>\n",
       "    <tr>\n",
       "      <th>2</th>\n",
       "      <td>1</td>\n",
       "      <td>3</td>\n",
       "      <td>female</td>\n",
       "      <td>26.0</td>\n",
       "      <td>0</td>\n",
       "      <td>0</td>\n",
       "      <td>7.9250</td>\n",
       "      <td>S</td>\n",
       "      <td>Third</td>\n",
       "      <td>woman</td>\n",
       "      <td>False</td>\n",
       "      <td>NaN</td>\n",
       "      <td>Southampton</td>\n",
       "      <td>yes</td>\n",
       "      <td>True</td>\n",
       "    </tr>\n",
       "    <tr>\n",
       "      <th>3</th>\n",
       "      <td>1</td>\n",
       "      <td>1</td>\n",
       "      <td>female</td>\n",
       "      <td>35.0</td>\n",
       "      <td>1</td>\n",
       "      <td>0</td>\n",
       "      <td>53.1000</td>\n",
       "      <td>S</td>\n",
       "      <td>First</td>\n",
       "      <td>woman</td>\n",
       "      <td>False</td>\n",
       "      <td>C</td>\n",
       "      <td>Southampton</td>\n",
       "      <td>yes</td>\n",
       "      <td>False</td>\n",
       "    </tr>\n",
       "    <tr>\n",
       "      <th>4</th>\n",
       "      <td>0</td>\n",
       "      <td>3</td>\n",
       "      <td>male</td>\n",
       "      <td>35.0</td>\n",
       "      <td>0</td>\n",
       "      <td>0</td>\n",
       "      <td>8.0500</td>\n",
       "      <td>S</td>\n",
       "      <td>Third</td>\n",
       "      <td>man</td>\n",
       "      <td>True</td>\n",
       "      <td>NaN</td>\n",
       "      <td>Southampton</td>\n",
       "      <td>no</td>\n",
       "      <td>True</td>\n",
       "    </tr>\n",
       "  </tbody>\n",
       "</table>\n",
       "</div>"
      ],
      "text/plain": [
       "   survived  pclass     sex   age  sibsp  parch     fare embarked  class  \\\n",
       "0         0       3    male  22.0      1      0   7.2500        S  Third   \n",
       "1         1       1  female  38.0      1      0  71.2833        C  First   \n",
       "2         1       3  female  26.0      0      0   7.9250        S  Third   \n",
       "3         1       1  female  35.0      1      0  53.1000        S  First   \n",
       "4         0       3    male  35.0      0      0   8.0500        S  Third   \n",
       "\n",
       "     who  adult_male deck  embark_town alive  alone  \n",
       "0    man        True  NaN  Southampton    no  False  \n",
       "1  woman       False    C    Cherbourg   yes  False  \n",
       "2  woman       False  NaN  Southampton   yes   True  \n",
       "3  woman       False    C  Southampton   yes  False  \n",
       "4    man        True  NaN  Southampton    no   True  "
      ]
     },
     "execution_count": 7,
     "metadata": {},
     "output_type": "execute_result"
    }
   ],
   "source": [
    "df.head()"
   ]
  },
  {
   "cell_type": "raw",
   "id": "d627727f-ae73-4fce-8823-6c1f5f484887",
   "metadata": {},
   "source": [
    "Let's recognize the variables:\n",
    "1. Survive tells us whether one survived or not. 1 = survived, 2 = died\n",
    "2. pclass tells us the ticket class a passenger held. 1 = first class, 2 = second class and 3 = 3rd class\n",
    "3. sex tells us the passenger's gender\n",
    "4. age shows us the age of the passenger\n",
    "5. sibsp shows us the number of siblings or spouses aboard\n",
    "6. parch shows the number of parent or child aboard\n",
    "7. fare shows the ticket cost/price\n",
    "8. embarked is the port in which the passenger boarded. C - Cherbourg, S - Southampton, Q - Queenstown\n",
    "9. class is the categorical variable of the pclass variable\n",
    "10. who indicates whether the passenger is male, female or child\n",
    "11. adult_male shows whether the passenger is an adult male or not\n",
    "12. deck shows the deck the passenger is on the ship. Ranges A - G\n",
    "13. embark_town is the port city where the passengers boarded the ship\n",
    "14. alive is the categorical version of the survived variable. no means deceased and yes means survived\n",
    "15. alone tells us whether the passenger was alone on the ship. It's a mixture of sibsp and parch. alone = true iff sibsp and parch are both 0"
   ]
  },
  {
   "cell_type": "code",
   "execution_count": 8,
   "id": "6da89417-ca7f-4701-8449-69f5f74c3d3e",
   "metadata": {},
   "outputs": [
    {
     "name": "stdout",
     "output_type": "stream",
     "text": [
      "<class 'pandas.core.frame.DataFrame'>\n",
      "RangeIndex: 891 entries, 0 to 890\n",
      "Data columns (total 15 columns):\n",
      " #   Column       Non-Null Count  Dtype   \n",
      "---  ------       --------------  -----   \n",
      " 0   survived     891 non-null    int64   \n",
      " 1   pclass       891 non-null    int64   \n",
      " 2   sex          891 non-null    object  \n",
      " 3   age          714 non-null    float64 \n",
      " 4   sibsp        891 non-null    int64   \n",
      " 5   parch        891 non-null    int64   \n",
      " 6   fare         891 non-null    float64 \n",
      " 7   embarked     889 non-null    object  \n",
      " 8   class        891 non-null    category\n",
      " 9   who          891 non-null    object  \n",
      " 10  adult_male   891 non-null    bool    \n",
      " 11  deck         203 non-null    category\n",
      " 12  embark_town  889 non-null    object  \n",
      " 13  alive        891 non-null    object  \n",
      " 14  alone        891 non-null    bool    \n",
      "dtypes: bool(2), category(2), float64(2), int64(4), object(5)\n",
      "memory usage: 80.7+ KB\n"
     ]
    }
   ],
   "source": [
    "df.info()"
   ]
  },
  {
   "cell_type": "raw",
   "id": "2d33aa07-f311-4825-9be8-ba76b1d92c78",
   "metadata": {},
   "source": [
    "Note how the deck variable has so many NaNs. We'll probably get rid of this variable"
   ]
  },
  {
   "cell_type": "code",
   "execution_count": 9,
   "id": "584fe7f8-a823-4fd2-9dfa-633e3adde795",
   "metadata": {},
   "outputs": [],
   "source": [
    "#Remove columns that are similar\n",
    "columns_to_drop = [\"alive\", \"class\", \"embarked\"]\n",
    "df.drop(columns_to_drop, axis = 1, inplace = True)"
   ]
  },
  {
   "cell_type": "code",
   "execution_count": 10,
   "id": "63da5bec-a9f4-489b-b1fb-aadbdffff6c7",
   "metadata": {},
   "outputs": [
    {
     "data": {
      "text/html": [
       "<div>\n",
       "<style scoped>\n",
       "    .dataframe tbody tr th:only-of-type {\n",
       "        vertical-align: middle;\n",
       "    }\n",
       "\n",
       "    .dataframe tbody tr th {\n",
       "        vertical-align: top;\n",
       "    }\n",
       "\n",
       "    .dataframe thead th {\n",
       "        text-align: right;\n",
       "    }\n",
       "</style>\n",
       "<table border=\"1\" class=\"dataframe\">\n",
       "  <thead>\n",
       "    <tr style=\"text-align: right;\">\n",
       "      <th></th>\n",
       "      <th>survived</th>\n",
       "      <th>pclass</th>\n",
       "      <th>sex</th>\n",
       "      <th>age</th>\n",
       "      <th>sibsp</th>\n",
       "      <th>parch</th>\n",
       "      <th>fare</th>\n",
       "      <th>who</th>\n",
       "      <th>adult_male</th>\n",
       "      <th>deck</th>\n",
       "      <th>embark_town</th>\n",
       "      <th>alone</th>\n",
       "    </tr>\n",
       "  </thead>\n",
       "  <tbody>\n",
       "    <tr>\n",
       "      <th>0</th>\n",
       "      <td>0</td>\n",
       "      <td>3</td>\n",
       "      <td>male</td>\n",
       "      <td>22.0</td>\n",
       "      <td>1</td>\n",
       "      <td>0</td>\n",
       "      <td>7.2500</td>\n",
       "      <td>man</td>\n",
       "      <td>True</td>\n",
       "      <td>NaN</td>\n",
       "      <td>Southampton</td>\n",
       "      <td>False</td>\n",
       "    </tr>\n",
       "    <tr>\n",
       "      <th>1</th>\n",
       "      <td>1</td>\n",
       "      <td>1</td>\n",
       "      <td>female</td>\n",
       "      <td>38.0</td>\n",
       "      <td>1</td>\n",
       "      <td>0</td>\n",
       "      <td>71.2833</td>\n",
       "      <td>woman</td>\n",
       "      <td>False</td>\n",
       "      <td>C</td>\n",
       "      <td>Cherbourg</td>\n",
       "      <td>False</td>\n",
       "    </tr>\n",
       "    <tr>\n",
       "      <th>2</th>\n",
       "      <td>1</td>\n",
       "      <td>3</td>\n",
       "      <td>female</td>\n",
       "      <td>26.0</td>\n",
       "      <td>0</td>\n",
       "      <td>0</td>\n",
       "      <td>7.9250</td>\n",
       "      <td>woman</td>\n",
       "      <td>False</td>\n",
       "      <td>NaN</td>\n",
       "      <td>Southampton</td>\n",
       "      <td>True</td>\n",
       "    </tr>\n",
       "    <tr>\n",
       "      <th>3</th>\n",
       "      <td>1</td>\n",
       "      <td>1</td>\n",
       "      <td>female</td>\n",
       "      <td>35.0</td>\n",
       "      <td>1</td>\n",
       "      <td>0</td>\n",
       "      <td>53.1000</td>\n",
       "      <td>woman</td>\n",
       "      <td>False</td>\n",
       "      <td>C</td>\n",
       "      <td>Southampton</td>\n",
       "      <td>False</td>\n",
       "    </tr>\n",
       "    <tr>\n",
       "      <th>4</th>\n",
       "      <td>0</td>\n",
       "      <td>3</td>\n",
       "      <td>male</td>\n",
       "      <td>35.0</td>\n",
       "      <td>0</td>\n",
       "      <td>0</td>\n",
       "      <td>8.0500</td>\n",
       "      <td>man</td>\n",
       "      <td>True</td>\n",
       "      <td>NaN</td>\n",
       "      <td>Southampton</td>\n",
       "      <td>True</td>\n",
       "    </tr>\n",
       "  </tbody>\n",
       "</table>\n",
       "</div>"
      ],
      "text/plain": [
       "   survived  pclass     sex   age  sibsp  parch     fare    who  adult_male  \\\n",
       "0         0       3    male  22.0      1      0   7.2500    man        True   \n",
       "1         1       1  female  38.0      1      0  71.2833  woman       False   \n",
       "2         1       3  female  26.0      0      0   7.9250  woman       False   \n",
       "3         1       1  female  35.0      1      0  53.1000  woman       False   \n",
       "4         0       3    male  35.0      0      0   8.0500    man        True   \n",
       "\n",
       "  deck  embark_town  alone  \n",
       "0  NaN  Southampton  False  \n",
       "1    C    Cherbourg  False  \n",
       "2  NaN  Southampton   True  \n",
       "3    C  Southampton  False  \n",
       "4  NaN  Southampton   True  "
      ]
     },
     "execution_count": 10,
     "metadata": {},
     "output_type": "execute_result"
    }
   ],
   "source": [
    "df.head()"
   ]
  },
  {
   "cell_type": "markdown",
   "id": "2c3d7bc4-318e-4439-a031-c9def38ccdee",
   "metadata": {},
   "source": [
    "**Exploratory Data Analysis**"
   ]
  },
  {
   "cell_type": "markdown",
   "id": "3d345371-33e3-4b02-966c-c2d987416fb6",
   "metadata": {},
   "source": [
    "*Analyze missing values*"
   ]
  },
  {
   "cell_type": "code",
   "execution_count": 13,
   "id": "4b3ade3d-fb88-4a33-a0e7-bbe91de22c80",
   "metadata": {},
   "outputs": [],
   "source": [
    "null_num = []\n",
    "for i in df.columns:\n",
    "    x = df[i].isnull().sum()\n",
    "    null_num.append(x)"
   ]
  },
  {
   "cell_type": "code",
   "execution_count": 14,
   "id": "71558ba7-2361-4427-932b-3aa15329a5e4",
   "metadata": {},
   "outputs": [
    {
     "data": {
      "text/plain": [
       "[0, 0, 0, 177, 0, 0, 0, 0, 0, 688, 2, 0]"
      ]
     },
     "execution_count": 14,
     "metadata": {},
     "output_type": "execute_result"
    }
   ],
   "source": [
    "null_num"
   ]
  },
  {
   "cell_type": "code",
   "execution_count": 15,
   "id": "c9f811d3-8d8e-4afa-8a66-9d0a21e361e7",
   "metadata": {},
   "outputs": [
    {
     "data": {
      "text/html": [
       "<div>\n",
       "<style scoped>\n",
       "    .dataframe tbody tr th:only-of-type {\n",
       "        vertical-align: middle;\n",
       "    }\n",
       "\n",
       "    .dataframe tbody tr th {\n",
       "        vertical-align: top;\n",
       "    }\n",
       "\n",
       "    .dataframe thead th {\n",
       "        text-align: right;\n",
       "    }\n",
       "</style>\n",
       "<table border=\"1\" class=\"dataframe\">\n",
       "  <thead>\n",
       "    <tr style=\"text-align: right;\">\n",
       "      <th></th>\n",
       "      <th>Total missing values</th>\n",
       "    </tr>\n",
       "  </thead>\n",
       "  <tbody>\n",
       "    <tr>\n",
       "      <th>survived</th>\n",
       "      <td>0</td>\n",
       "    </tr>\n",
       "    <tr>\n",
       "      <th>pclass</th>\n",
       "      <td>0</td>\n",
       "    </tr>\n",
       "    <tr>\n",
       "      <th>sex</th>\n",
       "      <td>0</td>\n",
       "    </tr>\n",
       "    <tr>\n",
       "      <th>age</th>\n",
       "      <td>177</td>\n",
       "    </tr>\n",
       "    <tr>\n",
       "      <th>sibsp</th>\n",
       "      <td>0</td>\n",
       "    </tr>\n",
       "    <tr>\n",
       "      <th>parch</th>\n",
       "      <td>0</td>\n",
       "    </tr>\n",
       "    <tr>\n",
       "      <th>fare</th>\n",
       "      <td>0</td>\n",
       "    </tr>\n",
       "    <tr>\n",
       "      <th>who</th>\n",
       "      <td>0</td>\n",
       "    </tr>\n",
       "    <tr>\n",
       "      <th>adult_male</th>\n",
       "      <td>0</td>\n",
       "    </tr>\n",
       "    <tr>\n",
       "      <th>deck</th>\n",
       "      <td>688</td>\n",
       "    </tr>\n",
       "    <tr>\n",
       "      <th>embark_town</th>\n",
       "      <td>2</td>\n",
       "    </tr>\n",
       "    <tr>\n",
       "      <th>alone</th>\n",
       "      <td>0</td>\n",
       "    </tr>\n",
       "  </tbody>\n",
       "</table>\n",
       "</div>"
      ],
      "text/plain": [
       "             Total missing values\n",
       "survived                        0\n",
       "pclass                          0\n",
       "sex                             0\n",
       "age                           177\n",
       "sibsp                           0\n",
       "parch                           0\n",
       "fare                            0\n",
       "who                             0\n",
       "adult_male                      0\n",
       "deck                          688\n",
       "embark_town                     2\n",
       "alone                           0"
      ]
     },
     "execution_count": 15,
     "metadata": {},
     "output_type": "execute_result"
    }
   ],
   "source": [
    "pd.DataFrame(null_num, index = df.columns, columns = [\"Total missing values\"])"
   ]
  },
  {
   "cell_type": "raw",
   "id": "acccf9b3-b81d-45c2-914e-ff7c22b621b8",
   "metadata": {},
   "source": [
    "only 3 variables have missing values: age, deck and embark_town\n",
    "let's start with the most missing values: the deck variable"
   ]
  },
  {
   "cell_type": "code",
   "execution_count": 16,
   "id": "c9d81d54-c651-47e1-b185-d126e0d0fc86",
   "metadata": {},
   "outputs": [
    {
     "data": {
      "text/plain": [
       "<Axes: xlabel='deck', ylabel='count'>"
      ]
     },
     "execution_count": 16,
     "metadata": {},
     "output_type": "execute_result"
    },
    {
     "data": {
      "image/png": "[encoded data removed]",
      "text/plain": [
       "<Figure size 640x480 with 1 Axes>"
      ]
     },
     "metadata": {},
     "output_type": "display_data"
    }
   ],
   "source": [
    "#There's just too many missing values in the deck variable\n",
    "#but before we remove it:\n",
    "sns.set_style(\"darkgrid\")\n",
    "sns.countplot(x = \"deck\", data = df, palette = \"viridis\")"
   ]
  },
  {
   "cell_type": "raw",
   "id": "9dccced5-47ce-4997-8537-8b851c9be51a",
   "metadata": {},
   "source": [
    "We can see that the deck with the most passengers was deck C"
   ]
  },
  {
   "cell_type": "code",
   "execution_count": 17,
   "id": "c1958f9b-cbe1-4147-b8b7-8a21684ea878",
   "metadata": {},
   "outputs": [],
   "source": [
    "#Let's determine who's going to survive according to this variable\n"
   ]
  },
  {
   "cell_type": "code",
   "execution_count": 18,
   "id": "b8d0866a-24b6-4992-8c9a-3621f250de57",
   "metadata": {},
   "outputs": [
    {
     "data": {
      "text/plain": [
       "<Axes: xlabel='deck', ylabel='count'>"
      ]
     },
     "execution_count": 18,
     "metadata": {},
     "output_type": "execute_result"
    },
    {
     "data": {
      "image/png": "[encoded data removed]",
      "text/plain": [
       "<Figure size 640x480 with 1 Axes>"
      ]
     },
     "metadata": {},
     "output_type": "display_data"
    }
   ],
   "source": [
    "sns.set_style(\"darkgrid\")\n",
    "sns.countplot(x = \"deck\", data = df,hue = \"survived\", palette = \"viridis\")"
   ]
  },
  {
   "cell_type": "raw",
   "id": "9d2a0d74-27ff-48ec-b204-914ad0d98f84",
   "metadata": {},
   "source": [
    "we see that the passengers on deck B and C have more survivors\n",
    "the least safe decks are A and G"
   ]
  },
  {
   "cell_type": "code",
   "execution_count": 19,
   "id": "90cd503f-4265-439b-82dc-61835e9fceff",
   "metadata": {},
   "outputs": [],
   "source": [
    "columns_to_drop = [\"deck\"]\n",
    "df.drop(columns_to_drop, axis = 1, inplace = True)"
   ]
  },
  {
   "cell_type": "code",
   "execution_count": 20,
   "id": "f6ecde9e-168a-4687-9fb5-4b04dfdc07f6",
   "metadata": {},
   "outputs": [
    {
     "data": {
      "text/html": [
       "<div>\n",
       "<style scoped>\n",
       "    .dataframe tbody tr th:only-of-type {\n",
       "        vertical-align: middle;\n",
       "    }\n",
       "\n",
       "    .dataframe tbody tr th {\n",
       "        vertical-align: top;\n",
       "    }\n",
       "\n",
       "    .dataframe thead th {\n",
       "        text-align: right;\n",
       "    }\n",
       "</style>\n",
       "<table border=\"1\" class=\"dataframe\">\n",
       "  <thead>\n",
       "    <tr style=\"text-align: right;\">\n",
       "      <th></th>\n",
       "      <th>survived</th>\n",
       "      <th>pclass</th>\n",
       "      <th>sex</th>\n",
       "      <th>age</th>\n",
       "      <th>sibsp</th>\n",
       "      <th>parch</th>\n",
       "      <th>fare</th>\n",
       "      <th>who</th>\n",
       "      <th>adult_male</th>\n",
       "      <th>embark_town</th>\n",
       "      <th>alone</th>\n",
       "    </tr>\n",
       "  </thead>\n",
       "  <tbody>\n",
       "    <tr>\n",
       "      <th>0</th>\n",
       "      <td>0</td>\n",
       "      <td>3</td>\n",
       "      <td>male</td>\n",
       "      <td>22.0</td>\n",
       "      <td>1</td>\n",
       "      <td>0</td>\n",
       "      <td>7.2500</td>\n",
       "      <td>man</td>\n",
       "      <td>True</td>\n",
       "      <td>Southampton</td>\n",
       "      <td>False</td>\n",
       "    </tr>\n",
       "    <tr>\n",
       "      <th>1</th>\n",
       "      <td>1</td>\n",
       "      <td>1</td>\n",
       "      <td>female</td>\n",
       "      <td>38.0</td>\n",
       "      <td>1</td>\n",
       "      <td>0</td>\n",
       "      <td>71.2833</td>\n",
       "      <td>woman</td>\n",
       "      <td>False</td>\n",
       "      <td>Cherbourg</td>\n",
       "      <td>False</td>\n",
       "    </tr>\n",
       "    <tr>\n",
       "      <th>2</th>\n",
       "      <td>1</td>\n",
       "      <td>3</td>\n",
       "      <td>female</td>\n",
       "      <td>26.0</td>\n",
       "      <td>0</td>\n",
       "      <td>0</td>\n",
       "      <td>7.9250</td>\n",
       "      <td>woman</td>\n",
       "      <td>False</td>\n",
       "      <td>Southampton</td>\n",
       "      <td>True</td>\n",
       "    </tr>\n",
       "    <tr>\n",
       "      <th>3</th>\n",
       "      <td>1</td>\n",
       "      <td>1</td>\n",
       "      <td>female</td>\n",
       "      <td>35.0</td>\n",
       "      <td>1</td>\n",
       "      <td>0</td>\n",
       "      <td>53.1000</td>\n",
       "      <td>woman</td>\n",
       "      <td>False</td>\n",
       "      <td>Southampton</td>\n",
       "      <td>False</td>\n",
       "    </tr>\n",
       "    <tr>\n",
       "      <th>4</th>\n",
       "      <td>0</td>\n",
       "      <td>3</td>\n",
       "      <td>male</td>\n",
       "      <td>35.0</td>\n",
       "      <td>0</td>\n",
       "      <td>0</td>\n",
       "      <td>8.0500</td>\n",
       "      <td>man</td>\n",
       "      <td>True</td>\n",
       "      <td>Southampton</td>\n",
       "      <td>True</td>\n",
       "    </tr>\n",
       "  </tbody>\n",
       "</table>\n",
       "</div>"
      ],
      "text/plain": [
       "   survived  pclass     sex   age  sibsp  parch     fare    who  adult_male  \\\n",
       "0         0       3    male  22.0      1      0   7.2500    man        True   \n",
       "1         1       1  female  38.0      1      0  71.2833  woman       False   \n",
       "2         1       3  female  26.0      0      0   7.9250  woman       False   \n",
       "3         1       1  female  35.0      1      0  53.1000  woman       False   \n",
       "4         0       3    male  35.0      0      0   8.0500    man        True   \n",
       "\n",
       "   embark_town  alone  \n",
       "0  Southampton  False  \n",
       "1    Cherbourg  False  \n",
       "2  Southampton   True  \n",
       "3  Southampton  False  \n",
       "4  Southampton   True  "
      ]
     },
     "execution_count": 20,
     "metadata": {},
     "output_type": "execute_result"
    }
   ],
   "source": [
    "df.head()"
   ]
  },
  {
   "cell_type": "raw",
   "id": "3d13efe6-e6b8-4b9a-b4f8-58621024caf0",
   "metadata": {},
   "source": [
    "Let's now focus on the age variable with 177 missing values\n",
    "We don't want to drop the age variable as it may be of importance\n",
    "Let's try filling in the NaNs with appropriate values"
   ]
  },
  {
   "cell_type": "markdown",
   "id": "edb51557-a892-46a8-bf04-0b78581dcb46",
   "metadata": {},
   "source": [
    "*Analyzing the age variable according to the pclass variable*"
   ]
  },
  {
   "cell_type": "raw",
   "id": "673af939-34da-4600-93f5-a4cbecc09536",
   "metadata": {},
   "source": [
    "We'll take the average of the age variable according to the pclass and place that value in the NaNs of the age variable"
   ]
  },
  {
   "cell_type": "code",
   "execution_count": 22,
   "id": "94a1536a-d81d-4b3a-9a8d-f27f050fdcb4",
   "metadata": {},
   "outputs": [
    {
     "data": {
      "text/plain": [
       "<Axes: xlabel='pclass', ylabel='age'>"
      ]
     },
     "execution_count": 22,
     "metadata": {},
     "output_type": "execute_result"
    },
    {
     "data": {
      "image/png": "[encoded data removed]",
      "text/plain": [
       "<Figure size 1000x600 with 1 Axes>"
      ]
     },
     "metadata": {},
     "output_type": "display_data"
    }
   ],
   "source": [
    "plt.figure(figsize = (10,6))\n",
    "sns.boxplot(x = \"pclass\", y = \"age\", data = df)"
   ]
  },
  {
   "cell_type": "raw",
   "id": "1c8e90cf-2478-4ca2-849a-7835072bdafb",
   "metadata": {},
   "source": [
    "The quality of the ticket class increases as the age increases\n",
    "Q2 for pclass = 1 is 38\n",
    "Q2 for pclass = 2 is 29\n",
    "Q2 for pclass = 3 is 24"
   ]
  },
  {
   "cell_type": "code",
   "execution_count": 23,
   "id": "b390f989-7dca-4745-84eb-be4ec0bcd106",
   "metadata": {},
   "outputs": [],
   "source": [
    "# function that fills the missing values in age column with the Q2s according to pclass\n",
    "def fillna_age(columns):\n",
    "    age = columns[0]\n",
    "    pclass = columns[1]\n",
    "# The function expects columns to be a list containing two elements: age and pclass.\n",
    "# It assigns the first element to age and the second to pclass.\n",
    "    \n",
    "    if pd.isnull(age):\n",
    "        if pclass == 1:\n",
    "            return 38\n",
    "        elif pclass == 2:\n",
    "            return 29\n",
    "        else:\n",
    "            return 24\n",
    "    else:\n",
    "        return age"
   ]
  },
  {
   "cell_type": "code",
   "execution_count": 24,
   "id": "7a2ca1a3-8479-4ac5-ad39-8c6e8d60165b",
   "metadata": {},
   "outputs": [],
   "source": [
    "# apply the function to the age variable\n",
    "df.age = df[[\"age\", \"pclass\"]].apply(fillna_age, axis = 1)"
   ]
  },
  {
   "cell_type": "code",
   "execution_count": 25,
   "id": "188a80e7-a8cf-4f6d-9ce1-0cc11a9bb1b4",
   "metadata": {},
   "outputs": [
    {
     "data": {
      "text/html": [
       "<div>\n",
       "<style scoped>\n",
       "    .dataframe tbody tr th:only-of-type {\n",
       "        vertical-align: middle;\n",
       "    }\n",
       "\n",
       "    .dataframe tbody tr th {\n",
       "        vertical-align: top;\n",
       "    }\n",
       "\n",
       "    .dataframe thead th {\n",
       "        text-align: right;\n",
       "    }\n",
       "</style>\n",
       "<table border=\"1\" class=\"dataframe\">\n",
       "  <thead>\n",
       "    <tr style=\"text-align: right;\">\n",
       "      <th></th>\n",
       "      <th>Total missing values</th>\n",
       "    </tr>\n",
       "  </thead>\n",
       "  <tbody>\n",
       "    <tr>\n",
       "      <th>survived</th>\n",
       "      <td>0</td>\n",
       "    </tr>\n",
       "    <tr>\n",
       "      <th>pclass</th>\n",
       "      <td>0</td>\n",
       "    </tr>\n",
       "    <tr>\n",
       "      <th>sex</th>\n",
       "      <td>0</td>\n",
       "    </tr>\n",
       "    <tr>\n",
       "      <th>age</th>\n",
       "      <td>0</td>\n",
       "    </tr>\n",
       "    <tr>\n",
       "      <th>sibsp</th>\n",
       "      <td>0</td>\n",
       "    </tr>\n",
       "    <tr>\n",
       "      <th>parch</th>\n",
       "      <td>0</td>\n",
       "    </tr>\n",
       "    <tr>\n",
       "      <th>fare</th>\n",
       "      <td>0</td>\n",
       "    </tr>\n",
       "    <tr>\n",
       "      <th>who</th>\n",
       "      <td>0</td>\n",
       "    </tr>\n",
       "    <tr>\n",
       "      <th>adult_male</th>\n",
       "      <td>0</td>\n",
       "    </tr>\n",
       "    <tr>\n",
       "      <th>embark_town</th>\n",
       "      <td>2</td>\n",
       "    </tr>\n",
       "    <tr>\n",
       "      <th>alone</th>\n",
       "      <td>0</td>\n",
       "    </tr>\n",
       "  </tbody>\n",
       "</table>\n",
       "</div>"
      ],
      "text/plain": [
       "             Total missing values\n",
       "survived                        0\n",
       "pclass                          0\n",
       "sex                             0\n",
       "age                             0\n",
       "sibsp                           0\n",
       "parch                           0\n",
       "fare                            0\n",
       "who                             0\n",
       "adult_male                      0\n",
       "embark_town                     2\n",
       "alone                           0"
      ]
     },
     "execution_count": 25,
     "metadata": {},
     "output_type": "execute_result"
    }
   ],
   "source": [
    "# look for any missing values\n",
    "null_num = []\n",
    "for i in df.columns:\n",
    "    x = df[i].isnull().sum()\n",
    "    null_num.append(x)\n",
    "pd.DataFrame(null_num, index = df.columns, columns = [\"Total missing values\"])"
   ]
  },
  {
   "cell_type": "raw",
   "id": "8f9b9203-15fc-4477-8da4-9c77e52dc45b",
   "metadata": {},
   "source": [
    "We now only have 2 missing values in the embark_town variable\n",
    "We could just drop them"
   ]
  },
  {
   "cell_type": "code",
   "execution_count": 26,
   "id": "3343195a-6bd1-42fc-9637-36ebdc95142d",
   "metadata": {},
   "outputs": [],
   "source": [
    "# drop the 2 NaNs \n",
    "df.dropna(inplace = True)"
   ]
  },
  {
   "cell_type": "code",
   "execution_count": 27,
   "id": "3a8c4ac7-23be-4a4e-8ac6-d17286b65875",
   "metadata": {},
   "outputs": [
    {
     "data": {
      "text/html": [
       "<div>\n",
       "<style scoped>\n",
       "    .dataframe tbody tr th:only-of-type {\n",
       "        vertical-align: middle;\n",
       "    }\n",
       "\n",
       "    .dataframe tbody tr th {\n",
       "        vertical-align: top;\n",
       "    }\n",
       "\n",
       "    .dataframe thead th {\n",
       "        text-align: right;\n",
       "    }\n",
       "</style>\n",
       "<table border=\"1\" class=\"dataframe\">\n",
       "  <thead>\n",
       "    <tr style=\"text-align: right;\">\n",
       "      <th></th>\n",
       "      <th>Total missing values</th>\n",
       "    </tr>\n",
       "  </thead>\n",
       "  <tbody>\n",
       "    <tr>\n",
       "      <th>survived</th>\n",
       "      <td>0</td>\n",
       "    </tr>\n",
       "    <tr>\n",
       "      <th>pclass</th>\n",
       "      <td>0</td>\n",
       "    </tr>\n",
       "    <tr>\n",
       "      <th>sex</th>\n",
       "      <td>0</td>\n",
       "    </tr>\n",
       "    <tr>\n",
       "      <th>age</th>\n",
       "      <td>0</td>\n",
       "    </tr>\n",
       "    <tr>\n",
       "      <th>sibsp</th>\n",
       "      <td>0</td>\n",
       "    </tr>\n",
       "    <tr>\n",
       "      <th>parch</th>\n",
       "      <td>0</td>\n",
       "    </tr>\n",
       "    <tr>\n",
       "      <th>fare</th>\n",
       "      <td>0</td>\n",
       "    </tr>\n",
       "    <tr>\n",
       "      <th>who</th>\n",
       "      <td>0</td>\n",
       "    </tr>\n",
       "    <tr>\n",
       "      <th>adult_male</th>\n",
       "      <td>0</td>\n",
       "    </tr>\n",
       "    <tr>\n",
       "      <th>embark_town</th>\n",
       "      <td>0</td>\n",
       "    </tr>\n",
       "    <tr>\n",
       "      <th>alone</th>\n",
       "      <td>0</td>\n",
       "    </tr>\n",
       "  </tbody>\n",
       "</table>\n",
       "</div>"
      ],
      "text/plain": [
       "             Total missing values\n",
       "survived                        0\n",
       "pclass                          0\n",
       "sex                             0\n",
       "age                             0\n",
       "sibsp                           0\n",
       "parch                           0\n",
       "fare                            0\n",
       "who                             0\n",
       "adult_male                      0\n",
       "embark_town                     0\n",
       "alone                           0"
      ]
     },
     "execution_count": 27,
     "metadata": {},
     "output_type": "execute_result"
    }
   ],
   "source": [
    "# look for any missing values\n",
    "null_num = []\n",
    "for i in df.columns:\n",
    "    x = df[i].isnull().sum()\n",
    "    null_num.append(x)\n",
    "pd.DataFrame(null_num, index = df.columns, columns = [\"Total missing values\"])"
   ]
  },
  {
   "cell_type": "markdown",
   "id": "c1818e0a-5da1-49f0-90be-786dcf4a3905",
   "metadata": {},
   "source": [
    "**Binary Analysis**"
   ]
  },
  {
   "cell_type": "markdown",
   "id": "da31771f-6075-4a2a-a067-1905f14130ea",
   "metadata": {},
   "source": [
    "*Analyze the target variable \"Survived\"*"
   ]
  },
  {
   "cell_type": "code",
   "execution_count": 30,
   "id": "9016cc69-2c8e-4e89-b217-ce9263192c05",
   "metadata": {},
   "outputs": [
    {
     "data": {
      "text/plain": [
       "<Axes: xlabel='survived', ylabel='count'>"
      ]
     },
     "execution_count": 30,
     "metadata": {},
     "output_type": "execute_result"
    },
    {
     "data": {
      "image/png": "[encoded data removed]",
      "text/plain": [
       "<Figure size 640x480 with 1 Axes>"
      ]
     },
     "metadata": {},
     "output_type": "display_data"
    }
   ],
   "source": [
    "sns.set_style(\"darkgrid\")\n",
    "sns.countplot(x = \"survived\", data = df, palette = \"viridis\")"
   ]
  },
  {
   "cell_type": "raw",
   "id": "307dfdb7-716b-45c1-8cb0-f2a56a021e9a",
   "metadata": {},
   "source": [
    "We can clearly see that most of the passengers onboard died"
   ]
  },
  {
   "cell_type": "code",
   "execution_count": 31,
   "id": "74290ecb-2688-466a-a548-68af4b442345",
   "metadata": {},
   "outputs": [
    {
     "data": {
      "text/plain": [
       "survived\n",
       "0    549\n",
       "1    340\n",
       "Name: count, dtype: int64"
      ]
     },
     "execution_count": 31,
     "metadata": {},
     "output_type": "execute_result"
    }
   ],
   "source": [
    "df.survived.value_counts() # or df[\"survived\"].value_counts()"
   ]
  },
  {
   "cell_type": "raw",
   "id": "8628a160-0556-4f9e-b73f-e6b1dc3b16e2",
   "metadata": {},
   "source": [
    "Are there any factors that affect the survival of the passengers? or is it just luck 😀\n",
    "For this we would have to do a binary analysis using the target variable"
   ]
  },
  {
   "cell_type": "raw",
   "id": "b0ae7374-39ba-4a10-b2da-032826fab13d",
   "metadata": {},
   "source": [
    "What's the effect on survival if one is alone on the ship?\n",
    "Use the alone variable which is actualy a combination of the sibsp and parch variables"
   ]
  },
  {
   "cell_type": "code",
   "execution_count": 32,
   "id": "2efe63de-4809-43c3-8948-464bdabf3796",
   "metadata": {},
   "outputs": [
    {
     "data": {
      "text/plain": [
       "<Axes: xlabel='survived', ylabel='count'>"
      ]
     },
     "execution_count": 32,
     "metadata": {},
     "output_type": "execute_result"
    },
    {
     "data": {
      "image/png": "[encoded data removed]",
      "text/plain": [
       "<Figure size 640x480 with 1 Axes>"
      ]
     },
     "metadata": {},
     "output_type": "display_data"
    }
   ],
   "source": [
    "sns.set_style(\"dark\")\n",
    "sns.countplot(x = \"survived\", hue = \"alone\", data = df, palette = \"viridis\")"
   ]
  },
  {
   "cell_type": "raw",
   "id": "874ae00e-6999-4b69-85cc-3683e0befbc5",
   "metadata": {},
   "source": [
    "We see that most of those who lost their lives on the ship were alone\n",
    "Most of the survivors were not alone"
   ]
  },
  {
   "cell_type": "markdown",
   "id": "14a1b311-f7e6-43c3-a7fb-fa03a86631ef",
   "metadata": {},
   "source": [
    "*What's the effect of being an adult male on board?*"
   ]
  },
  {
   "cell_type": "code",
   "execution_count": 34,
   "id": "71f07f20-60ed-4a53-91a3-8a792240f3c2",
   "metadata": {},
   "outputs": [
    {
     "data": {
      "text/plain": [
       "<Axes: xlabel='survived', ylabel='count'>"
      ]
     },
     "execution_count": 34,
     "metadata": {},
     "output_type": "execute_result"
    },
    {
     "data": {
      "image/png": "[encoded data removed]",
      "text/plain": [
       "<Figure size 640x480 with 1 Axes>"
      ]
     },
     "metadata": {},
     "output_type": "display_data"
    }
   ],
   "source": [
    "sns.set_style(\"ticks\")\n",
    "sns.countplot(x = \"survived\", hue = \"adult_male\", data = df, palette = \"rainbow\")"
   ]
  },
  {
   "cell_type": "raw",
   "id": "07f66a3e-4367-44c0-9108-e05b32c97c3f",
   "metadata": {},
   "source": [
    "We see that the vast majority of the adult_males died\n",
    "Remember the \"Women and children first. Captain goes down with the ship...\"? Explains why we have more non adult_male survivors\n",
    "Kids were given more priority. Can we say the same about women?"
   ]
  },
  {
   "cell_type": "code",
   "execution_count": 35,
   "id": "b9df39b7-c54c-4292-aaad-ce92525b90f4",
   "metadata": {},
   "outputs": [
    {
     "data": {
      "text/plain": [
       "<Axes: xlabel='survived', ylabel='count'>"
      ]
     },
     "execution_count": 35,
     "metadata": {},
     "output_type": "execute_result"
    },
    {
     "data": {
      "image/png": "[encoded data removed]",
      "text/plain": [
       "<Figure size 640x480 with 1 Axes>"
      ]
     },
     "metadata": {},
     "output_type": "display_data"
    }
   ],
   "source": [
    "# Investigating the effect of gender on survival\n",
    "sns.set_style(\"darkgrid\")\n",
    "sns.countplot(x = \"survived\", hue = \"sex\", data = df, palette = \"viridis\")"
   ]
  },
  {
   "cell_type": "markdown",
   "id": "1d3a1553-982a-461a-8daa-6d9307ea8943",
   "metadata": {},
   "source": [
    "Majority of those who lost their lives were men\n",
    "There were more female survivors\n",
    "We can conclude that indeed women and kids were given priority"
   ]
  },
  {
   "cell_type": "markdown",
   "id": "2c5c0e03-b98c-418a-9a43-7192696712aa",
   "metadata": {},
   "source": [
    "*Do the port cities, where the passengers embarked, impact survival?*"
   ]
  },
  {
   "cell_type": "code",
   "execution_count": 38,
   "id": "69616541-2ae5-44ae-af5a-9527aeb8a425",
   "metadata": {},
   "outputs": [
    {
     "data": {
      "text/plain": [
       "<Axes: xlabel='survived', ylabel='count'>"
      ]
     },
     "execution_count": 38,
     "metadata": {},
     "output_type": "execute_result"
    },
    {
     "data": {
      "image/png": "[encoded data removed]",
      "text/plain": [
       "<Figure size 640x480 with 1 Axes>"
      ]
     },
     "metadata": {},
     "output_type": "display_data"
    }
   ],
   "source": [
    "sns.set_style(\"darkgrid\")\n",
    "sns.countplot(x = \"survived\", hue = \"embark_town\", data = df, palette = \"rainbow\")"
   ]
  },
  {
   "cell_type": "raw",
   "id": "9ec62ae9-0274-4415-bc99-c6666592908d",
   "metadata": {},
   "source": [
    "Most of the deceased boarded the ship at Southampton\n",
    "We can see that most passengers boarded at Southampton"
   ]
  },
  {
   "cell_type": "code",
   "execution_count": 39,
   "id": "904e85ab-b4db-4bce-9139-065801e98806",
   "metadata": {},
   "outputs": [
    {
     "data": {
      "text/plain": [
       "embark_town\n",
       "Southampton    644\n",
       "Cherbourg      168\n",
       "Queenstown      77\n",
       "Name: count, dtype: int64"
      ]
     },
     "execution_count": 39,
     "metadata": {},
     "output_type": "execute_result"
    }
   ],
   "source": [
    "df.embark_town.value_counts()"
   ]
  },
  {
   "cell_type": "markdown",
   "id": "a85b8bc5-5b7f-4b76-b504-5d5c15ad8eb9",
   "metadata": {},
   "source": [
    "*What are the chances of survival if one had either a sibling or spouse?*"
   ]
  },
  {
   "cell_type": "code",
   "execution_count": 41,
   "id": "48628a7a-0a1a-47d3-b62c-b42c3789fdbe",
   "metadata": {},
   "outputs": [
    {
     "data": {
      "text/plain": [
       "<Axes: xlabel='survived', ylabel='count'>"
      ]
     },
     "execution_count": 41,
     "metadata": {},
     "output_type": "execute_result"
    },
    {
     "data": {
      "image/png": "[encoded data removed]",
      "text/plain": [
       "<Figure size 640x480 with 1 Axes>"
      ]
     },
     "metadata": {},
     "output_type": "display_data"
    }
   ],
   "source": [
    "sns.set_style(\"darkgrid\")\n",
    "sns.countplot(x = \"survived\", hue = \"sibsp\", data = df, palette = \"rainbow\")"
   ]
  },
  {
   "cell_type": "code",
   "execution_count": null,
   "id": "4b2468ba-47aa-4734-8e64-02f517af6e1a",
   "metadata": {},
   "outputs": [],
   "source": []
  }
 ],
 "metadata": {
  "kernelspec": {
   "display_name": "Python 3 (ipykernel)",
   "language": "python",
   "name": "python3"
  },
  "language_info": {
   "codemirror_mode": {
    "name": "ipython",
    "version": 3
   },
   "file_extension": ".py",
   "mimetype": "text/x-python",
   "name": "python",
   "nbconvert_exporter": "python",
   "pygments_lexer": "ipython3",
   "version": "3.11.7"
  }
 },
 "nbformat": 4,
 "nbformat_minor": 5
}
