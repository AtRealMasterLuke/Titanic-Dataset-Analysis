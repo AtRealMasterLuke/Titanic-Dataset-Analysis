{
 "cells": [
  {
   "cell_type": "raw",
   "id": "6a96fdaf-9395-4819-aed4-410cc208243b",
   "metadata": {},
   "source": [
    "This dataset estimates what kind of people would survive the accident and which passengers actually survived the wreck"
   ]
  },
  {
   "cell_type": "markdown",
   "id": "ccb174de-3e08-4c28-9f20-e8937f883ecc",
   "metadata": {},
   "source": [
    "**Import the Libraries**"
   ]
  },
  {
   "cell_type": "code",
   "execution_count": null,
   "id": "66714291-044c-4d44-b8d3-8054176deaaa",
   "metadata": {},
   "outputs": [],
   "source": [
    "# import the libraries\n",
    "import pandas as pd\n",
    "import numpy as np"
   ]
  },
  {
   "cell_type": "code",
   "execution_count": null,
   "id": "89e32d58-4c5a-400d-9021-e904005a60a2",
   "metadata": {},
   "outputs": [],
   "source": [
    "# import the visualizations libraries\n",
    "import matplotlib.pyplot as plt\n",
    "import seaborn as sns\n",
    "import warnings\n",
    "warnings.filterwarnings(\"ignore\")"
   ]
  },
  {
   "cell_type": "markdown",
   "id": "c4d1db6e-afa1-4741-a821-62ad63d03df3",
   "metadata": {},
   "source": [
    "**Loading the dataset**"
   ]
  },
  {
   "cell_type": "code",
   "execution_count": null,
   "id": "0359b304-d3aa-499c-a5e9-c971589bd751",
   "metadata": {},
   "outputs": [],
   "source": [
    "df = sns.load_dataset(\"titanic\")"
   ]
  },
  {
   "cell_type": "code",
   "execution_count": null,
   "id": "6fcc33fd-9c3b-40ce-8cf0-75aaa245511a",
   "metadata": {},
   "outputs": [],
   "source": [
    "df.head()"
   ]
  },
  {
   "cell_type": "raw",
   "id": "d627727f-ae73-4fce-8823-6c1f5f484887",
   "metadata": {},
   "source": [
    "Let's recognize the variables:\n",
    "1. Survive tells us whether one survived or not. 1 = survived, 2 = died\n",
    "2. pclass tells us the ticket class a passenger held. 1 = first class, 2 = second class and 3 = 3rd class\n",
    "3. sex tells us the passenger's gender\n",
    "4. age shows us the age of the passenger\n",
    "5. sibsp shows us the number of siblings or spouses aboard\n",
    "6. parch shows the number of parent or child aboard\n",
    "7. fare shows the ticket cost/price\n",
    "8. embarked is the port in which the passenger boarded. C - Cherbourg, S - Southampton, Q - Queenstown\n",
    "9. class is the categorical variable of the pclass variable\n",
    "10. who indicates whether the passenger is male, female or child\n",
    "11. adult_male shows whether the passenger is an adult male or not\n",
    "12. deck shows the deck the passenger is on the ship. Ranges A - G\n",
    "13. embark_town is the port city where the passengers boarded the ship\n",
    "14. alive is the categorical version of the survived variable. no means deceased and yes means survived\n",
    "15. alone tells us whether the passenger was alone on the ship. It's a mixture of sibsp and parch. alone = true iff sibsp and parch are both 0"
   ]
  },
  {
   "cell_type": "code",
   "execution_count": null,
   "id": "6da89417-ca7f-4701-8449-69f5f74c3d3e",
   "metadata": {},
   "outputs": [],
   "source": [
    "df.info()"
   ]
  },
  {
   "cell_type": "raw",
   "id": "2d33aa07-f311-4825-9be8-ba76b1d92c78",
   "metadata": {},
   "source": [
    "Note how the deck variable has so many NaNs. We'll probably get rid of this variable"
   ]
  },
  {
   "cell_type": "code",
   "execution_count": null,
   "id": "584fe7f8-a823-4fd2-9dfa-633e3adde795",
   "metadata": {},
   "outputs": [],
   "source": [
    "#Remove columns that are similar\n",
    "columns_to_drop = [\"alive\", \"class\", \"embarked\"]\n",
    "df.drop(columns_to_drop, axis = 1, inplace = True)"
   ]
  },
  {
   "cell_type": "code",
   "execution_count": null,
   "id": "63da5bec-a9f4-489b-b1fb-aadbdffff6c7",
   "metadata": {},
   "outputs": [],
   "source": [
    "df.head()"
   ]
  },
  {
   "cell_type": "markdown",
   "id": "2c3d7bc4-318e-4439-a031-c9def38ccdee",
   "metadata": {},
   "source": [
    "**Exploratory Data Analysis**"
   ]
  },
  {
   "cell_type": "markdown",
   "id": "3d345371-33e3-4b02-966c-c2d987416fb6",
   "metadata": {},
   "source": [
    "*Analyze missing values*"
   ]
  },
  {
   "cell_type": "code",
   "execution_count": null,
   "id": "4b3ade3d-fb88-4a33-a0e7-bbe91de22c80",
   "metadata": {},
   "outputs": [],
   "source": [
    "null_num = []\n",
    "for i in df.columns:\n",
    "    x = df[i].isnull().sum()\n",
    "    null_num.append(x)"
   ]
  },
  {
   "cell_type": "code",
   "execution_count": null,
   "id": "71558ba7-2361-4427-932b-3aa15329a5e4",
   "metadata": {},
   "outputs": [],
   "source": [
    "null_num"
   ]
  },
  {
   "cell_type": "code",
   "execution_count": null,
   "id": "c9f811d3-8d8e-4afa-8a66-9d0a21e361e7",
   "metadata": {},
   "outputs": [],
   "source": [
    "pd.DataFrame(null_num, index = df.columns, columns = [\"Total missing values\"])"
   ]
  },
  {
   "cell_type": "raw",
   "id": "acccf9b3-b81d-45c2-914e-ff7c22b621b8",
   "metadata": {},
   "source": [
    "only 3 variables have missing values: age, deck and embark_town\n",
    "let's start with the most missing values: the deck variable"
   ]
  },
  {
   "cell_type": "code",
   "execution_count": null,
   "id": "c9d81d54-c651-47e1-b185-d126e0d0fc86",
   "metadata": {},
   "outputs": [],
   "source": [
    "#There's just too many missing values in the deck variable\n",
    "#but before we remove it:\n",
    "sns.set_style(\"darkgrid\")\n",
    "sns.countplot(x = \"deck\", data = df, palette = \"viridis\")"
   ]
  },
  {
   "cell_type": "raw",
   "id": "9dccced5-47ce-4997-8537-8b851c9be51a",
   "metadata": {},
   "source": [
    "We can see that the deck with the most passengers was deck C"
   ]
  },
  {
   "cell_type": "code",
   "execution_count": null,
   "id": "c1958f9b-cbe1-4147-b8b7-8a21684ea878",
   "metadata": {},
   "outputs": [],
   "source": [
    "#Let's determine who's going to survive according to this variable\n"
   ]
  },
  {
   "cell_type": "code",
   "execution_count": null,
   "id": "b8d0866a-24b6-4992-8c9a-3621f250de57",
   "metadata": {},
   "outputs": [],
   "source": [
    "sns.set_style(\"darkgrid\")\n",
    "sns.countplot(x = \"deck\", data = df,hue = \"survived\", palette = \"viridis\")"
   ]
  },
  {
   "cell_type": "raw",
   "id": "9d2a0d74-27ff-48ec-b204-914ad0d98f84",
   "metadata": {},
   "source": [
    "we see that the passengers on deck B and C have more survivors\n",
    "the least safe decks are A and G"
   ]
  },
  {
   "cell_type": "code",
   "execution_count": null,
   "id": "90cd503f-4265-439b-82dc-61835e9fceff",
   "metadata": {},
   "outputs": [],
   "source": [
    "columns_to_drop = [\"deck\"]\n",
    "df.drop(columns_to_drop, axis = 1, inplace = True)"
   ]
  },
  {
   "cell_type": "code",
   "execution_count": null,
   "id": "f6ecde9e-168a-4687-9fb5-4b04dfdc07f6",
   "metadata": {},
   "outputs": [],
   "source": [
    "df.head()"
   ]
  },
  {
   "cell_type": "raw",
   "id": "3d13efe6-e6b8-4b9a-b4f8-58621024caf0",
   "metadata": {},
   "source": [
    "Let's now focus on the age variable with 177 missing values\n",
    "We don't want to drop the age variable as it may be of importance\n",
    "Let's try filling in the NaNs with appropriate values"
   ]
  },
  {
   "cell_type": "markdown",
   "id": "edb51557-a892-46a8-bf04-0b78581dcb46",
   "metadata": {},
   "source": [
    "*Analyzing the age variable according to the pclass variable*"
   ]
  },
  {
   "cell_type": "raw",
   "id": "673af939-34da-4600-93f5-a4cbecc09536",
   "metadata": {},
   "source": [
    "We'll take the average of the age variable according to the pclass and place that value in the NaNs of the age variable"
   ]
  },
  {
   "cell_type": "code",
   "execution_count": null,
   "id": "94a1536a-d81d-4b3a-9a8d-f27f050fdcb4",
   "metadata": {},
   "outputs": [],
   "source": [
    "plt.figure(figsize = (10,6))\n",
    "sns.boxplot(x = \"pclass\", y = \"age\", data = df)"
   ]
  },
  {
   "cell_type": "raw",
   "id": "1c8e90cf-2478-4ca2-849a-7835072bdafb",
   "metadata": {},
   "source": [
    "The quality of the ticket class increases as the age increases\n",
    "Q2 for pclass = 1 is 38\n",
    "Q2 for pclass = 2 is 29\n",
    "Q2 for pclass = 3 is 24"
   ]
  },
  {
   "cell_type": "code",
   "execution_count": null,
   "id": "b390f989-7dca-4745-84eb-be4ec0bcd106",
   "metadata": {},
   "outputs": [],
   "source": [
    "# function that fills the missing values in age column with the Q2s according to pclass\n",
    "def fillna_age(columns):\n",
    "    age = columns[0]\n",
    "    pclass = columns[1]\n",
    "# The function expects columns to be a list containing two elements: age and pclass.\n",
    "# It assigns the first element to age and the second to pclass.\n",
    "    \n",
    "    if pd.isnull(age):\n",
    "        if pclass == 1:\n",
    "            return 38\n",
    "        elif pclass == 2:\n",
    "            return 29\n",
    "        else:\n",
    "            return 24\n",
    "    else:\n",
    "        return age"
   ]
  },
  {
   "cell_type": "code",
   "execution_count": null,
   "id": "7a2ca1a3-8479-4ac5-ad39-8c6e8d60165b",
   "metadata": {},
   "outputs": [],
   "source": [
    "# apply the function to the age variable\n",
    "df.age = df[[\"age\", \"pclass\"]].apply(fillna_age, axis = 1)"
   ]
  },
  {
   "cell_type": "code",
   "execution_count": null,
   "id": "188a80e7-a8cf-4f6d-9ce1-0cc11a9bb1b4",
   "metadata": {},
   "outputs": [],
   "source": [
    "# look for any missing values\n",
    "null_num = []\n",
    "for i in df.columns:\n",
    "    x = df[i].isnull().sum()\n",
    "    null_num.append(x)\n",
    "pd.DataFrame(null_num, index = df.columns, columns = [\"Total missing values\"])"
   ]
  },
  {
   "cell_type": "raw",
   "id": "8f9b9203-15fc-4477-8da4-9c77e52dc45b",
   "metadata": {},
   "source": [
    "We now only have 2 missing values in the embark_town variable\n",
    "We could just drop them"
   ]
  },
  {
   "cell_type": "code",
   "execution_count": null,
   "id": "3343195a-6bd1-42fc-9637-36ebdc95142d",
   "metadata": {},
   "outputs": [],
   "source": [
    "# drop the 2 NaNs \n",
    "df.dropna(inplace = True)"
   ]
  },
  {
   "cell_type": "code",
   "execution_count": null,
   "id": "3a8c4ac7-23be-4a4e-8ac6-d17286b65875",
   "metadata": {},
   "outputs": [],
   "source": [
    "# look for any missing values\n",
    "null_num = []\n",
    "for i in df.columns:\n",
    "    x = df[i].isnull().sum()\n",
    "    null_num.append(x)\n",
    "pd.DataFrame(null_num, index = df.columns, columns = [\"Total missing values\"])"
   ]
  },
  {
   "cell_type": "markdown",
   "id": "c1818e0a-5da1-49f0-90be-786dcf4a3905",
   "metadata": {},
   "source": [
    "**Binary Analysis**"
   ]
  },
  {
   "cell_type": "markdown",
   "id": "da31771f-6075-4a2a-a067-1905f14130ea",
   "metadata": {},
   "source": [
    "*Analyze the target variable \"Survived\"*"
   ]
  },
  {
   "cell_type": "code",
   "execution_count": null,
   "id": "9016cc69-2c8e-4e89-b217-ce9263192c05",
   "metadata": {},
   "outputs": [],
   "source": [
    "sns.set_style(\"darkgrid\")\n",
    "sns.countplot(x = \"survived\", data = df, palette = \"viridis\")"
   ]
  },
  {
   "cell_type": "raw",
   "id": "307dfdb7-716b-45c1-8cb0-f2a56a021e9a",
   "metadata": {},
   "source": [
    "We can clearly see that most of the passengers onboard died"
   ]
  },
  {
   "cell_type": "code",
   "execution_count": null,
   "id": "74290ecb-2688-466a-a548-68af4b442345",
   "metadata": {},
   "outputs": [],
   "source": [
    "df.survived.value_counts() # or df[\"survived\"].value_counts()"
   ]
  },
  {
   "cell_type": "raw",
   "id": "8628a160-0556-4f9e-b73f-e6b1dc3b16e2",
   "metadata": {},
   "source": [
    "Are there any factors that affect the survival of the passengers? or is it just luck 😀\n",
    "For this we would have to do a binary analysis using the target variable"
   ]
  },
  {
   "cell_type": "raw",
   "id": "b0ae7374-39ba-4a10-b2da-032826fab13d",
   "metadata": {},
   "source": [
    "What's the effect on survival if one is alone on the ship?\n",
    "Use the alone variable which is actualy a combination of the sibsp and parch variables"
   ]
  },
  {
   "cell_type": "code",
   "execution_count": null,
   "id": "2efe63de-4809-43c3-8948-464bdabf3796",
   "metadata": {},
   "outputs": [],
   "source": [
    "sns.set_style(\"dark\")\n",
    "sns.countplot(x = \"survived\", hue = \"alone\", data = df, palette = \"viridis\")"
   ]
  },
  {
   "cell_type": "raw",
   "id": "874ae00e-6999-4b69-85cc-3683e0befbc5",
   "metadata": {},
   "source": [
    "We see that most of those who lost their lives on the ship were alone\n",
    "Most of the survivors were not alone"
   ]
  },
  {
   "cell_type": "markdown",
   "id": "14a1b311-f7e6-43c3-a7fb-fa03a86631ef",
   "metadata": {},
   "source": [
    "*What's the effect of being an adult male on board?*"
   ]
  },
  {
   "cell_type": "code",
   "execution_count": null,
   "id": "71f07f20-60ed-4a53-91a3-8a792240f3c2",
   "metadata": {},
   "outputs": [],
   "source": [
    "sns.set_style(\"ticks\")\n",
    "sns.countplot(x = \"survived\", hue = \"adult_male\", data = df, palette = \"rainbow\")"
   ]
  },
  {
   "cell_type": "raw",
   "id": "07f66a3e-4367-44c0-9108-e05b32c97c3f",
   "metadata": {},
   "source": [
    "We see that the vast majority of the adult_males died\n",
    "Remember the \"Women and children first. Captain goes down with the ship...\"? Explains why we have more non adult_male survivors\n",
    "Kids were given more priority. Can we say the same about women?"
   ]
  },
  {
   "cell_type": "code",
   "execution_count": null,
   "id": "b9df39b7-c54c-4292-aaad-ce92525b90f4",
   "metadata": {},
   "outputs": [],
   "source": [
    "# Investigating the effect of gender on survival\n",
    "sns.set_style(\"darkgrid\")\n",
    "sns.countplot(x = \"survived\", hue = \"sex\", data = df, palette = \"viridis\")"
   ]
  },
  {
   "cell_type": "markdown",
   "id": "1d3a1553-982a-461a-8daa-6d9307ea8943",
   "metadata": {},
   "source": [
    "Majority of those who lost their lives were men\n",
    "There were more female survivors\n",
    "We can conclude that indeed women and kids were given priority"
   ]
  },
  {
   "cell_type": "markdown",
   "id": "2c5c0e03-b98c-418a-9a43-7192696712aa",
   "metadata": {},
   "source": [
    "*Do the port cities, where the passengers embarked, impact survival?*"
   ]
  },
  {
   "cell_type": "code",
   "execution_count": null,
   "id": "69616541-2ae5-44ae-af5a-9527aeb8a425",
   "metadata": {},
   "outputs": [],
   "source": [
    "sns.set_style(\"darkgrid\")\n",
    "sns.countplot(x = \"survived\", hue = \"embark_town\", data = df, palette = \"rainbow\")"
   ]
  },
  {
   "cell_type": "raw",
   "id": "9ec62ae9-0274-4415-bc99-c6666592908d",
   "metadata": {},
   "source": [
    "Most of the deceased boarded the ship at Southampton\n",
    "We can see that most passengers boarded at Southampton"
   ]
  },
  {
   "cell_type": "code",
   "execution_count": null,
   "id": "904e85ab-b4db-4bce-9139-065801e98806",
   "metadata": {},
   "outputs": [],
   "source": [
    "df.embark_town.value_counts()"
   ]
  },
  {
   "cell_type": "markdown",
   "id": "a85b8bc5-5b7f-4b76-b504-5d5c15ad8eb9",
   "metadata": {},
   "source": [
    "*What are the chances of survival if one had either a sibling or spouse?*"
   ]
  },
  {
   "cell_type": "code",
   "execution_count": null,
   "id": "48628a7a-0a1a-47d3-b62c-b42c3789fdbe",
   "metadata": {
    "scrolled": true
   },
   "outputs": [],
   "source": [
    "sns.set_style(\"darkgrid\")\n",
    "sns.countplot(x = \"survived\", hue = \"sibsp\", data = df, palette = \"rainbow\")"
   ]
  },
  {
   "cell_type": "code",
   "execution_count": null,
   "id": "4b2468ba-47aa-4734-8e64-02f517af6e1a",
   "metadata": {},
   "outputs": [],
   "source": []
  }
 ],
 "metadata": {
  "kernelspec": {
   "display_name": "Python 3 (ipykernel)",
   "language": "python",
   "name": "python3"
  },
  "language_info": {
   "codemirror_mode": {
    "name": "ipython",
    "version": 3
   },
   "file_extension": ".py",
   "mimetype": "text/x-python",
   "name": "python",
   "nbconvert_exporter": "python",
   "pygments_lexer": "ipython3",
   "version": "3.11.7"
  }
 },
 "nbformat": 4,
 "nbformat_minor": 5
}
