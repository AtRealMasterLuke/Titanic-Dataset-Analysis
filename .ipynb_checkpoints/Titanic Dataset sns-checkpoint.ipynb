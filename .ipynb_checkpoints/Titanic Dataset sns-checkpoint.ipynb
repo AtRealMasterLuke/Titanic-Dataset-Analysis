{
 "cells": [
  {
   "cell_type": "raw",
   "id": "6a96fdaf-9395-4819-aed4-410cc208243b",
   "metadata": {},
   "source": [
    "This dataset estimates what kind of people would survive the accident and which passengers actually survived the wreck"
   ]
  },
  {
   "cell_type": "markdown",
   "id": "ccb174de-3e08-4c28-9f20-e8937f883ecc",
   "metadata": {},
   "source": [
    "**Import the Libraries**"
   ]
  },
  {
   "cell_type": "code",
   "execution_count": 74,
   "id": "66714291-044c-4d44-b8d3-8054176deaaa",
   "metadata": {},
   "outputs": [],
   "source": [
    "# import the libraries\n",
    "import pandas as pd\n",
    "import numpy as np"
   ]
  },
  {
   "cell_type": "code",
   "execution_count": 76,
   "id": "89e32d58-4c5a-400d-9021-e904005a60a2",
   "metadata": {},
   "outputs": [],
   "source": [
    "# import the visualizations libraries\n",
    "import matplotlib.pyplot as plt\n",
    "import seaborn as sns\n",
    "import warnings\n",
    "warnings.filterwarnings(\"ignore\")"
   ]
  },
  {
   "cell_type": "markdown",
   "id": "c4d1db6e-afa1-4741-a821-62ad63d03df3",
   "metadata": {},
   "source": [
    "**Loading the dataset**"
   ]
  },
  {
   "cell_type": "code",
   "execution_count": 79,
   "id": "0359b304-d3aa-499c-a5e9-c971589bd751",
   "metadata": {},
   "outputs": [],
   "source": [
    "df = sns.load_dataset(\"titanic\")"
   ]
  },
  {
   "cell_type": "code",
   "execution_count": 81,
   "id": "6fcc33fd-9c3b-40ce-8cf0-75aaa245511a",
   "metadata": {},
   "outputs": [
    {
     "data": {
      "text/html": [
       "<div>\n",
       "<style scoped>\n",
       "    .dataframe tbody tr th:only-of-type {\n",
       "        vertical-align: middle;\n",
       "    }\n",
       "\n",
       "    .dataframe tbody tr th {\n",
       "        vertical-align: top;\n",
       "    }\n",
       "\n",
       "    .dataframe thead th {\n",
       "        text-align: right;\n",
       "    }\n",
       "</style>\n",
       "<table border=\"1\" class=\"dataframe\">\n",
       "  <thead>\n",
       "    <tr style=\"text-align: right;\">\n",
       "      <th></th>\n",
       "      <th>survived</th>\n",
       "      <th>pclass</th>\n",
       "      <th>sex</th>\n",
       "      <th>age</th>\n",
       "      <th>sibsp</th>\n",
       "      <th>parch</th>\n",
       "      <th>fare</th>\n",
       "      <th>embarked</th>\n",
       "      <th>class</th>\n",
       "      <th>who</th>\n",
       "      <th>adult_male</th>\n",
       "      <th>deck</th>\n",
       "      <th>embark_town</th>\n",
       "      <th>alive</th>\n",
       "      <th>alone</th>\n",
       "    </tr>\n",
       "  </thead>\n",
       "  <tbody>\n",
       "    <tr>\n",
       "      <th>0</th>\n",
       "      <td>0</td>\n",
       "      <td>3</td>\n",
       "      <td>male</td>\n",
       "      <td>22.0</td>\n",
       "      <td>1</td>\n",
       "      <td>0</td>\n",
       "      <td>7.2500</td>\n",
       "      <td>S</td>\n",
       "      <td>Third</td>\n",
       "      <td>man</td>\n",
       "      <td>True</td>\n",
       "      <td>NaN</td>\n",
       "      <td>Southampton</td>\n",
       "      <td>no</td>\n",
       "      <td>False</td>\n",
       "    </tr>\n",
       "    <tr>\n",
       "      <th>1</th>\n",
       "      <td>1</td>\n",
       "      <td>1</td>\n",
       "      <td>female</td>\n",
       "      <td>38.0</td>\n",
       "      <td>1</td>\n",
       "      <td>0</td>\n",
       "      <td>71.2833</td>\n",
       "      <td>C</td>\n",
       "      <td>First</td>\n",
       "      <td>woman</td>\n",
       "      <td>False</td>\n",
       "      <td>C</td>\n",
       "      <td>Cherbourg</td>\n",
       "      <td>yes</td>\n",
       "      <td>False</td>\n",
       "    </tr>\n",
       "    <tr>\n",
       "      <th>2</th>\n",
       "      <td>1</td>\n",
       "      <td>3</td>\n",
       "      <td>female</td>\n",
       "      <td>26.0</td>\n",
       "      <td>0</td>\n",
       "      <td>0</td>\n",
       "      <td>7.9250</td>\n",
       "      <td>S</td>\n",
       "      <td>Third</td>\n",
       "      <td>woman</td>\n",
       "      <td>False</td>\n",
       "      <td>NaN</td>\n",
       "      <td>Southampton</td>\n",
       "      <td>yes</td>\n",
       "      <td>True</td>\n",
       "    </tr>\n",
       "    <tr>\n",
       "      <th>3</th>\n",
       "      <td>1</td>\n",
       "      <td>1</td>\n",
       "      <td>female</td>\n",
       "      <td>35.0</td>\n",
       "      <td>1</td>\n",
       "      <td>0</td>\n",
       "      <td>53.1000</td>\n",
       "      <td>S</td>\n",
       "      <td>First</td>\n",
       "      <td>woman</td>\n",
       "      <td>False</td>\n",
       "      <td>C</td>\n",
       "      <td>Southampton</td>\n",
       "      <td>yes</td>\n",
       "      <td>False</td>\n",
       "    </tr>\n",
       "    <tr>\n",
       "      <th>4</th>\n",
       "      <td>0</td>\n",
       "      <td>3</td>\n",
       "      <td>male</td>\n",
       "      <td>35.0</td>\n",
       "      <td>0</td>\n",
       "      <td>0</td>\n",
       "      <td>8.0500</td>\n",
       "      <td>S</td>\n",
       "      <td>Third</td>\n",
       "      <td>man</td>\n",
       "      <td>True</td>\n",
       "      <td>NaN</td>\n",
       "      <td>Southampton</td>\n",
       "      <td>no</td>\n",
       "      <td>True</td>\n",
       "    </tr>\n",
       "  </tbody>\n",
       "</table>\n",
       "</div>"
      ],
      "text/plain": [
       "   survived  pclass     sex   age  sibsp  parch     fare embarked  class  \\\n",
       "0         0       3    male  22.0      1      0   7.2500        S  Third   \n",
       "1         1       1  female  38.0      1      0  71.2833        C  First   \n",
       "2         1       3  female  26.0      0      0   7.9250        S  Third   \n",
       "3         1       1  female  35.0      1      0  53.1000        S  First   \n",
       "4         0       3    male  35.0      0      0   8.0500        S  Third   \n",
       "\n",
       "     who  adult_male deck  embark_town alive  alone  \n",
       "0    man        True  NaN  Southampton    no  False  \n",
       "1  woman       False    C    Cherbourg   yes  False  \n",
       "2  woman       False  NaN  Southampton   yes   True  \n",
       "3  woman       False    C  Southampton   yes  False  \n",
       "4    man        True  NaN  Southampton    no   True  "
      ]
     },
     "execution_count": 81,
     "metadata": {},
     "output_type": "execute_result"
    }
   ],
   "source": [
    "df.head()"
   ]
  },
  {
   "cell_type": "raw",
   "id": "d627727f-ae73-4fce-8823-6c1f5f484887",
   "metadata": {},
   "source": [
    "Let's recognize the variables:\n",
    "1. Survive tells us whether one survived or not. 1 = survived, 2 = died\n",
    "2. pclass tells us the ticket class a passenger held. 1 = first class, 2 = second class and 3 = 3rd class\n",
    "3. sex tells us the passenger's gender\n",
    "4. age shows us the age of the passenger\n",
    "5. sibsp shows us the number of siblings or spouses aboard\n",
    "6. parch shows the number of parent or child aboard\n",
    "7. fare shows the ticket cost/price\n",
    "8. embarked is the port in which the passenger boarded. C - Cherbourg, S - Southampton, Q - Queenstown\n",
    "9. class is the categorical variable of the pclass variable\n",
    "10. who indicates whether the passenger is male, female or child\n",
    "11. adult_male shows whether the passenger is an adult male or not\n",
    "12. deck shows the deck the passenger is on the ship. Ranges A - G\n",
    "13. embark_town is the port city where the passengers boarded the ship\n",
    "14. alive is the categorical version of the survived variable. no means deceased and yes means survived\n",
    "15. alone tells us whether the passenger was alone on the ship. It's a mixture of sibsp and parch. alone = true iff sibsp and parch are both 0"
   ]
  },
  {
   "cell_type": "code",
   "execution_count": 83,
   "id": "6da89417-ca7f-4701-8449-69f5f74c3d3e",
   "metadata": {},
   "outputs": [
    {
     "name": "stdout",
     "output_type": "stream",
     "text": [
      "<class 'pandas.core.frame.DataFrame'>\n",
      "RangeIndex: 891 entries, 0 to 890\n",
      "Data columns (total 15 columns):\n",
      " #   Column       Non-Null Count  Dtype   \n",
      "---  ------       --------------  -----   \n",
      " 0   survived     891 non-null    int64   \n",
      " 1   pclass       891 non-null    int64   \n",
      " 2   sex          891 non-null    object  \n",
      " 3   age          714 non-null    float64 \n",
      " 4   sibsp        891 non-null    int64   \n",
      " 5   parch        891 non-null    int64   \n",
      " 6   fare         891 non-null    float64 \n",
      " 7   embarked     889 non-null    object  \n",
      " 8   class        891 non-null    category\n",
      " 9   who          891 non-null    object  \n",
      " 10  adult_male   891 non-null    bool    \n",
      " 11  deck         203 non-null    category\n",
      " 12  embark_town  889 non-null    object  \n",
      " 13  alive        891 non-null    object  \n",
      " 14  alone        891 non-null    bool    \n",
      "dtypes: bool(2), category(2), float64(2), int64(4), object(5)\n",
      "memory usage: 80.7+ KB\n"
     ]
    }
   ],
   "source": [
    "df.info()"
   ]
  },
  {
   "cell_type": "raw",
   "id": "2d33aa07-f311-4825-9be8-ba76b1d92c78",
   "metadata": {},
   "source": [
    "Note how the deck variable has so many NaNs. We'll probably get rid of this variable"
   ]
  },
  {
   "cell_type": "code",
   "execution_count": 85,
   "id": "584fe7f8-a823-4fd2-9dfa-633e3adde795",
   "metadata": {},
   "outputs": [],
   "source": [
    "#Remove columns that are similar\n",
    "columns_to_drop = [\"alive\", \"class\", \"embarked\"]\n",
    "df.drop(columns_to_drop, axis = 1, inplace = True)"
   ]
  },
  {
   "cell_type": "code",
   "execution_count": 87,
   "id": "63da5bec-a9f4-489b-b1fb-aadbdffff6c7",
   "metadata": {},
   "outputs": [
    {
     "data": {
      "text/html": [
       "<div>\n",
       "<style scoped>\n",
       "    .dataframe tbody tr th:only-of-type {\n",
       "        vertical-align: middle;\n",
       "    }\n",
       "\n",
       "    .dataframe tbody tr th {\n",
       "        vertical-align: top;\n",
       "    }\n",
       "\n",
       "    .dataframe thead th {\n",
       "        text-align: right;\n",
       "    }\n",
       "</style>\n",
       "<table border=\"1\" class=\"dataframe\">\n",
       "  <thead>\n",
       "    <tr style=\"text-align: right;\">\n",
       "      <th></th>\n",
       "      <th>survived</th>\n",
       "      <th>pclass</th>\n",
       "      <th>sex</th>\n",
       "      <th>age</th>\n",
       "      <th>sibsp</th>\n",
       "      <th>parch</th>\n",
       "      <th>fare</th>\n",
       "      <th>who</th>\n",
       "      <th>adult_male</th>\n",
       "      <th>deck</th>\n",
       "      <th>embark_town</th>\n",
       "      <th>alone</th>\n",
       "    </tr>\n",
       "  </thead>\n",
       "  <tbody>\n",
       "    <tr>\n",
       "      <th>0</th>\n",
       "      <td>0</td>\n",
       "      <td>3</td>\n",
       "      <td>male</td>\n",
       "      <td>22.0</td>\n",
       "      <td>1</td>\n",
       "      <td>0</td>\n",
       "      <td>7.2500</td>\n",
       "      <td>man</td>\n",
       "      <td>True</td>\n",
       "      <td>NaN</td>\n",
       "      <td>Southampton</td>\n",
       "      <td>False</td>\n",
       "    </tr>\n",
       "    <tr>\n",
       "      <th>1</th>\n",
       "      <td>1</td>\n",
       "      <td>1</td>\n",
       "      <td>female</td>\n",
       "      <td>38.0</td>\n",
       "      <td>1</td>\n",
       "      <td>0</td>\n",
       "      <td>71.2833</td>\n",
       "      <td>woman</td>\n",
       "      <td>False</td>\n",
       "      <td>C</td>\n",
       "      <td>Cherbourg</td>\n",
       "      <td>False</td>\n",
       "    </tr>\n",
       "    <tr>\n",
       "      <th>2</th>\n",
       "      <td>1</td>\n",
       "      <td>3</td>\n",
       "      <td>female</td>\n",
       "      <td>26.0</td>\n",
       "      <td>0</td>\n",
       "      <td>0</td>\n",
       "      <td>7.9250</td>\n",
       "      <td>woman</td>\n",
       "      <td>False</td>\n",
       "      <td>NaN</td>\n",
       "      <td>Southampton</td>\n",
       "      <td>True</td>\n",
       "    </tr>\n",
       "    <tr>\n",
       "      <th>3</th>\n",
       "      <td>1</td>\n",
       "      <td>1</td>\n",
       "      <td>female</td>\n",
       "      <td>35.0</td>\n",
       "      <td>1</td>\n",
       "      <td>0</td>\n",
       "      <td>53.1000</td>\n",
       "      <td>woman</td>\n",
       "      <td>False</td>\n",
       "      <td>C</td>\n",
       "      <td>Southampton</td>\n",
       "      <td>False</td>\n",
       "    </tr>\n",
       "    <tr>\n",
       "      <th>4</th>\n",
       "      <td>0</td>\n",
       "      <td>3</td>\n",
       "      <td>male</td>\n",
       "      <td>35.0</td>\n",
       "      <td>0</td>\n",
       "      <td>0</td>\n",
       "      <td>8.0500</td>\n",
       "      <td>man</td>\n",
       "      <td>True</td>\n",
       "      <td>NaN</td>\n",
       "      <td>Southampton</td>\n",
       "      <td>True</td>\n",
       "    </tr>\n",
       "  </tbody>\n",
       "</table>\n",
       "</div>"
      ],
      "text/plain": [
       "   survived  pclass     sex   age  sibsp  parch     fare    who  adult_male  \\\n",
       "0         0       3    male  22.0      1      0   7.2500    man        True   \n",
       "1         1       1  female  38.0      1      0  71.2833  woman       False   \n",
       "2         1       3  female  26.0      0      0   7.9250  woman       False   \n",
       "3         1       1  female  35.0      1      0  53.1000  woman       False   \n",
       "4         0       3    male  35.0      0      0   8.0500    man        True   \n",
       "\n",
       "  deck  embark_town  alone  \n",
       "0  NaN  Southampton  False  \n",
       "1    C    Cherbourg  False  \n",
       "2  NaN  Southampton   True  \n",
       "3    C  Southampton  False  \n",
       "4  NaN  Southampton   True  "
      ]
     },
     "execution_count": 87,
     "metadata": {},
     "output_type": "execute_result"
    }
   ],
   "source": [
    "df.head()"
   ]
  },
  {
   "cell_type": "markdown",
   "id": "2c3d7bc4-318e-4439-a031-c9def38ccdee",
   "metadata": {},
   "source": [
    "**Exploratory Data Analysis**"
   ]
  },
  {
   "cell_type": "markdown",
   "id": "3d345371-33e3-4b02-966c-c2d987416fb6",
   "metadata": {},
   "source": [
    "*Analyze missing values*"
   ]
  },
  {
   "cell_type": "code",
   "execution_count": 91,
   "id": "4b3ade3d-fb88-4a33-a0e7-bbe91de22c80",
   "metadata": {},
   "outputs": [],
   "source": [
    "null_num = []\n",
    "for i in df.columns:\n",
    "    x = df[i].isnull().sum()\n",
    "    null_num.append(x)"
   ]
  },
  {
   "cell_type": "code",
   "execution_count": 93,
   "id": "71558ba7-2361-4427-932b-3aa15329a5e4",
   "metadata": {},
   "outputs": [
    {
     "data": {
      "text/plain": [
       "[0, 0, 0, 177, 0, 0, 0, 0, 0, 688, 2, 0]"
      ]
     },
     "execution_count": 93,
     "metadata": {},
     "output_type": "execute_result"
    }
   ],
   "source": [
    "null_num"
   ]
  },
  {
   "cell_type": "code",
   "execution_count": 95,
   "id": "c9f811d3-8d8e-4afa-8a66-9d0a21e361e7",
   "metadata": {},
   "outputs": [
    {
     "data": {
      "text/html": [
       "<div>\n",
       "<style scoped>\n",
       "    .dataframe tbody tr th:only-of-type {\n",
       "        vertical-align: middle;\n",
       "    }\n",
       "\n",
       "    .dataframe tbody tr th {\n",
       "        vertical-align: top;\n",
       "    }\n",
       "\n",
       "    .dataframe thead th {\n",
       "        text-align: right;\n",
       "    }\n",
       "</style>\n",
       "<table border=\"1\" class=\"dataframe\">\n",
       "  <thead>\n",
       "    <tr style=\"text-align: right;\">\n",
       "      <th></th>\n",
       "      <th>Total missing values</th>\n",
       "    </tr>\n",
       "  </thead>\n",
       "  <tbody>\n",
       "    <tr>\n",
       "      <th>survived</th>\n",
       "      <td>0</td>\n",
       "    </tr>\n",
       "    <tr>\n",
       "      <th>pclass</th>\n",
       "      <td>0</td>\n",
       "    </tr>\n",
       "    <tr>\n",
       "      <th>sex</th>\n",
       "      <td>0</td>\n",
       "    </tr>\n",
       "    <tr>\n",
       "      <th>age</th>\n",
       "      <td>177</td>\n",
       "    </tr>\n",
       "    <tr>\n",
       "      <th>sibsp</th>\n",
       "      <td>0</td>\n",
       "    </tr>\n",
       "    <tr>\n",
       "      <th>parch</th>\n",
       "      <td>0</td>\n",
       "    </tr>\n",
       "    <tr>\n",
       "      <th>fare</th>\n",
       "      <td>0</td>\n",
       "    </tr>\n",
       "    <tr>\n",
       "      <th>who</th>\n",
       "      <td>0</td>\n",
       "    </tr>\n",
       "    <tr>\n",
       "      <th>adult_male</th>\n",
       "      <td>0</td>\n",
       "    </tr>\n",
       "    <tr>\n",
       "      <th>deck</th>\n",
       "      <td>688</td>\n",
       "    </tr>\n",
       "    <tr>\n",
       "      <th>embark_town</th>\n",
       "      <td>2</td>\n",
       "    </tr>\n",
       "    <tr>\n",
       "      <th>alone</th>\n",
       "      <td>0</td>\n",
       "    </tr>\n",
       "  </tbody>\n",
       "</table>\n",
       "</div>"
      ],
      "text/plain": [
       "             Total missing values\n",
       "survived                        0\n",
       "pclass                          0\n",
       "sex                             0\n",
       "age                           177\n",
       "sibsp                           0\n",
       "parch                           0\n",
       "fare                            0\n",
       "who                             0\n",
       "adult_male                      0\n",
       "deck                          688\n",
       "embark_town                     2\n",
       "alone                           0"
      ]
     },
     "execution_count": 95,
     "metadata": {},
     "output_type": "execute_result"
    }
   ],
   "source": [
    "pd.DataFrame(null_num, index = df.columns, columns = [\"Total missing values\"])"
   ]
  },
  {
   "cell_type": "raw",
   "id": "acccf9b3-b81d-45c2-914e-ff7c22b621b8",
   "metadata": {},
   "source": [
    "only 3 variables have missing values: age, deck and embark_town\n",
    "let's start with the most missing values: the deck variable"
   ]
  },
  {
   "cell_type": "code",
   "execution_count": 97,
   "id": "c9d81d54-c651-47e1-b185-d126e0d0fc86",
   "metadata": {},
   "outputs": [
    {
     "data": {
      "text/plain": [
       "<Axes: xlabel='deck', ylabel='count'>"
      ]
     },
     "execution_count": 97,
     "metadata": {},
     "output_type": "execute_result"
    },
    {
     "data": {
      "image/png": "[encoded data removed]",
      "text/plain": [
       "<Figure size 640x480 with 1 Axes>"
      ]
     },
     "metadata": {},
     "output_type": "display_data"
    }
   ],
   "source": [
    "#There's just too many missing values in the deck variable\n",
    "#but before we remove it:\n",
    "sns.set_style(\"darkgrid\")\n",
    "sns.countplot(x = \"deck\", data = df, palette = \"viridis\")"
   ]
  },
  {
   "cell_type": "raw",
   "id": "9dccced5-47ce-4997-8537-8b851c9be51a",
   "metadata": {},
   "source": [
    "We can see that the deck with the most passengers was deck C"
   ]
  },
  {
   "cell_type": "code",
   "execution_count": 99,
   "id": "c1958f9b-cbe1-4147-b8b7-8a21684ea878",
   "metadata": {},
   "outputs": [],
   "source": [
    "#Let's determine who's going to survive according to this variable\n"
   ]
  },
  {
   "cell_type": "code",
   "execution_count": 101,
   "id": "b8d0866a-24b6-4992-8c9a-3621f250de57",
   "metadata": {},
   "outputs": [
    {
     "data": {
      "text/plain": [
       "<Axes: xlabel='deck', ylabel='count'>"
      ]
     },
     "execution_count": 101,
     "metadata": {},
     "output_type": "execute_result"
    },
    {
     "data": {
      "image/png": "[encoded data removed]",
      "text/plain": [
       "<Figure size 640x480 with 1 Axes>"
      ]
     },
     "metadata": {},
     "output_type": "display_data"
    }
   ],
   "source": [
    "sns.set_style(\"darkgrid\")\n",
    "sns.countplot(x = \"deck\", data = df,hue = \"survived\", palette = \"viridis\")"
   ]
  },
  {
   "cell_type": "raw",
   "id": "9d2a0d74-27ff-48ec-b204-914ad0d98f84",
   "metadata": {},
   "source": [
    "we see that the passengers on deck B and C have more survivors\n",
    "the least safe decks are A and G"
   ]
  },
  {
   "cell_type": "code",
   "execution_count": 103,
   "id": "90cd503f-4265-439b-82dc-61835e9fceff",
   "metadata": {},
   "outputs": [],
   "source": [
    "columns_to_drop = [\"deck\"]\n",
    "df.drop(columns_to_drop, axis = 1, inplace = True)"
   ]
  },
  {
   "cell_type": "code",
   "execution_count": 105,
   "id": "f6ecde9e-168a-4687-9fb5-4b04dfdc07f6",
   "metadata": {},
   "outputs": [
    {
     "data": {
      "text/html": [
       "<div>\n",
       "<style scoped>\n",
       "    .dataframe tbody tr th:only-of-type {\n",
       "        vertical-align: middle;\n",
       "    }\n",
       "\n",
       "    .dataframe tbody tr th {\n",
       "        vertical-align: top;\n",
       "    }\n",
       "\n",
       "    .dataframe thead th {\n",
       "        text-align: right;\n",
       "    }\n",
       "</style>\n",
       "<table border=\"1\" class=\"dataframe\">\n",
       "  <thead>\n",
       "    <tr style=\"text-align: right;\">\n",
       "      <th></th>\n",
       "      <th>survived</th>\n",
       "      <th>pclass</th>\n",
       "      <th>sex</th>\n",
       "      <th>age</th>\n",
       "      <th>sibsp</th>\n",
       "      <th>parch</th>\n",
       "      <th>fare</th>\n",
       "      <th>who</th>\n",
       "      <th>adult_male</th>\n",
       "      <th>embark_town</th>\n",
       "      <th>alone</th>\n",
       "    </tr>\n",
       "  </thead>\n",
       "  <tbody>\n",
       "    <tr>\n",
       "      <th>0</th>\n",
       "      <td>0</td>\n",
       "      <td>3</td>\n",
       "      <td>male</td>\n",
       "      <td>22.0</td>\n",
       "      <td>1</td>\n",
       "      <td>0</td>\n",
       "      <td>7.2500</td>\n",
       "      <td>man</td>\n",
       "      <td>True</td>\n",
       "      <td>Southampton</td>\n",
       "      <td>False</td>\n",
       "    </tr>\n",
       "    <tr>\n",
       "      <th>1</th>\n",
       "      <td>1</td>\n",
       "      <td>1</td>\n",
       "      <td>female</td>\n",
       "      <td>38.0</td>\n",
       "      <td>1</td>\n",
       "      <td>0</td>\n",
       "      <td>71.2833</td>\n",
       "      <td>woman</td>\n",
       "      <td>False</td>\n",
       "      <td>Cherbourg</td>\n",
       "      <td>False</td>\n",
       "    </tr>\n",
       "    <tr>\n",
       "      <th>2</th>\n",
       "      <td>1</td>\n",
       "      <td>3</td>\n",
       "      <td>female</td>\n",
       "      <td>26.0</td>\n",
       "      <td>0</td>\n",
       "      <td>0</td>\n",
       "      <td>7.9250</td>\n",
       "      <td>woman</td>\n",
       "      <td>False</td>\n",
       "      <td>Southampton</td>\n",
       "      <td>True</td>\n",
       "    </tr>\n",
       "    <tr>\n",
       "      <th>3</th>\n",
       "      <td>1</td>\n",
       "      <td>1</td>\n",
       "      <td>female</td>\n",
       "      <td>35.0</td>\n",
       "      <td>1</td>\n",
       "      <td>0</td>\n",
       "      <td>53.1000</td>\n",
       "      <td>woman</td>\n",
       "      <td>False</td>\n",
       "      <td>Southampton</td>\n",
       "      <td>False</td>\n",
       "    </tr>\n",
       "    <tr>\n",
       "      <th>4</th>\n",
       "      <td>0</td>\n",
       "      <td>3</td>\n",
       "      <td>male</td>\n",
       "      <td>35.0</td>\n",
       "      <td>0</td>\n",
       "      <td>0</td>\n",
       "      <td>8.0500</td>\n",
       "      <td>man</td>\n",
       "      <td>True</td>\n",
       "      <td>Southampton</td>\n",
       "      <td>True</td>\n",
       "    </tr>\n",
       "  </tbody>\n",
       "</table>\n",
       "</div>"
      ],
      "text/plain": [
       "   survived  pclass     sex   age  sibsp  parch     fare    who  adult_male  \\\n",
       "0         0       3    male  22.0      1      0   7.2500    man        True   \n",
       "1         1       1  female  38.0      1      0  71.2833  woman       False   \n",
       "2         1       3  female  26.0      0      0   7.9250  woman       False   \n",
       "3         1       1  female  35.0      1      0  53.1000  woman       False   \n",
       "4         0       3    male  35.0      0      0   8.0500    man        True   \n",
       "\n",
       "   embark_town  alone  \n",
       "0  Southampton  False  \n",
       "1    Cherbourg  False  \n",
       "2  Southampton   True  \n",
       "3  Southampton  False  \n",
       "4  Southampton   True  "
      ]
     },
     "execution_count": 105,
     "metadata": {},
     "output_type": "execute_result"
    }
   ],
   "source": [
    "df.head()"
   ]
  },
  {
   "cell_type": "raw",
   "id": "3d13efe6-e6b8-4b9a-b4f8-58621024caf0",
   "metadata": {},
   "source": [
    "Let's now focus on the age variable with 177 missing values\n",
    "We don't want to drop the age variable as it may be of importance\n",
    "Let's try filling in the NaNs with appropriate values"
   ]
  },
  {
   "cell_type": "markdown",
   "id": "edb51557-a892-46a8-bf04-0b78581dcb46",
   "metadata": {},
   "source": [
    "*Analyzing the age variable according to the pclass variable*"
   ]
  },
  {
   "cell_type": "raw",
   "id": "673af939-34da-4600-93f5-a4cbecc09536",
   "metadata": {},
   "source": [
    "We'll take the average of the age variable according to the pclass and place that value in the NaNs of the age variable"
   ]
  },
  {
   "cell_type": "code",
   "execution_count": 108,
   "id": "94a1536a-d81d-4b3a-9a8d-f27f050fdcb4",
   "metadata": {},
   "outputs": [
    {
     "data": {
      "text/plain": [
       "<Axes: xlabel='pclass', ylabel='age'>"
      ]
     },
     "execution_count": 108,
     "metadata": {},
     "output_type": "execute_result"
    },
    {
     "data": {
      "image/png": "[encoded data removed]",
      "text/plain": [
       "<Figure size 1000x600 with 1 Axes>"
      ]
     },
     "metadata": {},
     "output_type": "display_data"
    }
   ],
   "source": [
    "plt.figure(figsize = (10,6))\n",
    "sns.boxplot(x = \"pclass\", y = \"age\", data = df)"
   ]
  },
  {
   "cell_type": "raw",
   "id": "1c8e90cf-2478-4ca2-849a-7835072bdafb",
   "metadata": {},
   "source": [
    "The quality of the ticket class increases as the age increases\n",
    "Q2 for pclass = 1 is 38\n",
    "Q2 for pclass = 2 is 29\n",
    "Q2 for pclass = 3 is 24"
   ]
  },
  {
   "cell_type": "code",
   "execution_count": 110,
   "id": "b390f989-7dca-4745-84eb-be4ec0bcd106",
   "metadata": {},
   "outputs": [],
   "source": [
    "# function that fills the missing values in age column with the Q2s according to pclass\n",
    "def fillna_age(columns):\n",
    "    age = columns[0]\n",
    "    pclass = columns[1]\n",
    "# The function expects columns to be a list containing two elements: age and pclass.\n",
    "# It assigns the first element to age and the second to pclass.\n",
    "    \n",
    "    if pd.isnull(age):\n",
    "        if pclass == 1:\n",
    "            return 38\n",
    "        elif pclass == 2:\n",
    "            return 29\n",
    "        else:\n",
    "            return 24\n",
    "    else:\n",
    "        return age"
   ]
  },
  {
   "cell_type": "code",
   "execution_count": 112,
   "id": "7a2ca1a3-8479-4ac5-ad39-8c6e8d60165b",
   "metadata": {},
   "outputs": [],
   "source": [
    "# apply the function to the age variable\n",
    "df.age = df[[\"age\", \"pclass\"]].apply(fillna_age, axis = 1)"
   ]
  },
  {
   "cell_type": "code",
   "execution_count": 114,
   "id": "188a80e7-a8cf-4f6d-9ce1-0cc11a9bb1b4",
   "metadata": {},
   "outputs": [
    {
     "data": {
      "text/html": [
       "<div>\n",
       "<style scoped>\n",
       "    .dataframe tbody tr th:only-of-type {\n",
       "        vertical-align: middle;\n",
       "    }\n",
       "\n",
       "    .dataframe tbody tr th {\n",
       "        vertical-align: top;\n",
       "    }\n",
       "\n",
       "    .dataframe thead th {\n",
       "        text-align: right;\n",
       "    }\n",
       "</style>\n",
       "<table border=\"1\" class=\"dataframe\">\n",
       "  <thead>\n",
       "    <tr style=\"text-align: right;\">\n",
       "      <th></th>\n",
       "      <th>Total missing values</th>\n",
       "    </tr>\n",
       "  </thead>\n",
       "  <tbody>\n",
       "    <tr>\n",
       "      <th>survived</th>\n",
       "      <td>0</td>\n",
       "    </tr>\n",
       "    <tr>\n",
       "      <th>pclass</th>\n",
       "      <td>0</td>\n",
       "    </tr>\n",
       "    <tr>\n",
       "      <th>sex</th>\n",
       "      <td>0</td>\n",
       "    </tr>\n",
       "    <tr>\n",
       "      <th>age</th>\n",
       "      <td>0</td>\n",
       "    </tr>\n",
       "    <tr>\n",
       "      <th>sibsp</th>\n",
       "      <td>0</td>\n",
       "    </tr>\n",
       "    <tr>\n",
       "      <th>parch</th>\n",
       "      <td>0</td>\n",
       "    </tr>\n",
       "    <tr>\n",
       "      <th>fare</th>\n",
       "      <td>0</td>\n",
       "    </tr>\n",
       "    <tr>\n",
       "      <th>who</th>\n",
       "      <td>0</td>\n",
       "    </tr>\n",
       "    <tr>\n",
       "      <th>adult_male</th>\n",
       "      <td>0</td>\n",
       "    </tr>\n",
       "    <tr>\n",
       "      <th>embark_town</th>\n",
       "      <td>2</td>\n",
       "    </tr>\n",
       "    <tr>\n",
       "      <th>alone</th>\n",
       "      <td>0</td>\n",
       "    </tr>\n",
       "  </tbody>\n",
       "</table>\n",
       "</div>"
      ],
      "text/plain": [
       "             Total missing values\n",
       "survived                        0\n",
       "pclass                          0\n",
       "sex                             0\n",
       "age                             0\n",
       "sibsp                           0\n",
       "parch                           0\n",
       "fare                            0\n",
       "who                             0\n",
       "adult_male                      0\n",
       "embark_town                     2\n",
       "alone                           0"
      ]
     },
     "execution_count": 114,
     "metadata": {},
     "output_type": "execute_result"
    }
   ],
   "source": [
    "# look for any missing values\n",
    "null_num = []\n",
    "for i in df.columns:\n",
    "    x = df[i].isnull().sum()\n",
    "    null_num.append(x)\n",
    "pd.DataFrame(null_num, index = df.columns, columns = [\"Total missing values\"])"
   ]
  },
  {
   "cell_type": "raw",
   "id": "8f9b9203-15fc-4477-8da4-9c77e52dc45b",
   "metadata": {},
   "source": [
    "We now only have 2 missing values in the embark_town variable\n",
    "We could just drop them"
   ]
  },
  {
   "cell_type": "code",
   "execution_count": 116,
   "id": "3343195a-6bd1-42fc-9637-36ebdc95142d",
   "metadata": {},
   "outputs": [],
   "source": [
    "# drop the 2 NaNs \n",
    "df.dropna(inplace = True)"
   ]
  },
  {
   "cell_type": "code",
   "execution_count": 118,
   "id": "3a8c4ac7-23be-4a4e-8ac6-d17286b65875",
   "metadata": {},
   "outputs": [
    {
     "data": {
      "text/html": [
       "<div>\n",
       "<style scoped>\n",
       "    .dataframe tbody tr th:only-of-type {\n",
       "        vertical-align: middle;\n",
       "    }\n",
       "\n",
       "    .dataframe tbody tr th {\n",
       "        vertical-align: top;\n",
       "    }\n",
       "\n",
       "    .dataframe thead th {\n",
       "        text-align: right;\n",
       "    }\n",
       "</style>\n",
       "<table border=\"1\" class=\"dataframe\">\n",
       "  <thead>\n",
       "    <tr style=\"text-align: right;\">\n",
       "      <th></th>\n",
       "      <th>Total missing values</th>\n",
       "    </tr>\n",
       "  </thead>\n",
       "  <tbody>\n",
       "    <tr>\n",
       "      <th>survived</th>\n",
       "      <td>0</td>\n",
       "    </tr>\n",
       "    <tr>\n",
       "      <th>pclass</th>\n",
       "      <td>0</td>\n",
       "    </tr>\n",
       "    <tr>\n",
       "      <th>sex</th>\n",
       "      <td>0</td>\n",
       "    </tr>\n",
       "    <tr>\n",
       "      <th>age</th>\n",
       "      <td>0</td>\n",
       "    </tr>\n",
       "    <tr>\n",
       "      <th>sibsp</th>\n",
       "      <td>0</td>\n",
       "    </tr>\n",
       "    <tr>\n",
       "      <th>parch</th>\n",
       "      <td>0</td>\n",
       "    </tr>\n",
       "    <tr>\n",
       "      <th>fare</th>\n",
       "      <td>0</td>\n",
       "    </tr>\n",
       "    <tr>\n",
       "      <th>who</th>\n",
       "      <td>0</td>\n",
       "    </tr>\n",
       "    <tr>\n",
       "      <th>adult_male</th>\n",
       "      <td>0</td>\n",
       "    </tr>\n",
       "    <tr>\n",
       "      <th>embark_town</th>\n",
       "      <td>0</td>\n",
       "    </tr>\n",
       "    <tr>\n",
       "      <th>alone</th>\n",
       "      <td>0</td>\n",
       "    </tr>\n",
       "  </tbody>\n",
       "</table>\n",
       "</div>"
      ],
      "text/plain": [
       "             Total missing values\n",
       "survived                        0\n",
       "pclass                          0\n",
       "sex                             0\n",
       "age                             0\n",
       "sibsp                           0\n",
       "parch                           0\n",
       "fare                            0\n",
       "who                             0\n",
       "adult_male                      0\n",
       "embark_town                     0\n",
       "alone                           0"
      ]
     },
     "execution_count": 118,
     "metadata": {},
     "output_type": "execute_result"
    }
   ],
   "source": [
    "# look for any missing values\n",
    "null_num = []\n",
    "for i in df.columns:\n",
    "    x = df[i].isnull().sum()\n",
    "    null_num.append(x)\n",
    "pd.DataFrame(null_num, index = df.columns, columns = [\"Total missing values\"])"
   ]
  },
  {
   "cell_type": "markdown",
   "id": "c1818e0a-5da1-49f0-90be-786dcf4a3905",
   "metadata": {},
   "source": [
    "**Binary Analysis**"
   ]
  },
  {
   "cell_type": "markdown",
   "id": "da31771f-6075-4a2a-a067-1905f14130ea",
   "metadata": {},
   "source": [
    "*Analyze the target variable \"Survived\"*"
   ]
  },
  {
   "cell_type": "code",
   "execution_count": 122,
   "id": "9016cc69-2c8e-4e89-b217-ce9263192c05",
   "metadata": {},
   "outputs": [
    {
     "data": {
      "text/plain": [
       "<Axes: xlabel='survived', ylabel='count'>"
      ]
     },
     "execution_count": 122,
     "metadata": {},
     "output_type": "execute_result"
    },
    {
     "data": {
      "image/png": "[encoded data removed]",
      "text/plain": [
       "<Figure size 640x480 with 1 Axes>"
      ]
     },
     "metadata": {},
     "output_type": "display_data"
    }
   ],
   "source": [
    "sns.set_style(\"darkgrid\")\n",
    "sns.countplot(x = \"survived\", data = df, palette = \"viridis\")"
   ]
  },
  {
   "cell_type": "raw",
   "id": "307dfdb7-716b-45c1-8cb0-f2a56a021e9a",
   "metadata": {},
   "source": [
    "We can clearly see that most of the passengers onboard died"
   ]
  },
  {
   "cell_type": "code",
   "execution_count": 124,
   "id": "74290ecb-2688-466a-a548-68af4b442345",
   "metadata": {},
   "outputs": [
    {
     "data": {
      "text/plain": [
       "survived\n",
       "0    549\n",
       "1    340\n",
       "Name: count, dtype: int64"
      ]
     },
     "execution_count": 124,
     "metadata": {},
     "output_type": "execute_result"
    }
   ],
   "source": [
    "df.survived.value_counts() # or df[\"survived\"].value_counts()"
   ]
  },
  {
   "cell_type": "raw",
   "id": "8628a160-0556-4f9e-b73f-e6b1dc3b16e2",
   "metadata": {},
   "source": [
    "Are there any factors that affect the survival of the passengers? or is it just luck 😀\n",
    "For this we would have to do a binary analysis using the target variable"
   ]
  },
  {
   "cell_type": "raw",
   "id": "b0ae7374-39ba-4a10-b2da-032826fab13d",
   "metadata": {},
   "source": [
    "What's the effect on survival if one is alone on the ship?\n",
    "Use the alone variable which is actualy a combination of the sibsp and parch variables"
   ]
  },
  {
   "cell_type": "code",
   "execution_count": 126,
   "id": "2efe63de-4809-43c3-8948-464bdabf3796",
   "metadata": {},
   "outputs": [
    {
     "data": {
      "text/plain": [
       "<Axes: xlabel='survived', ylabel='count'>"
      ]
     },
     "execution_count": 126,
     "metadata": {},
     "output_type": "execute_result"
    },
    {
     "data": {
      "image/png": "[encoded data removed]",
      "text/plain": [
       "<Figure size 640x480 with 1 Axes>"
      ]
     },
     "metadata": {},
     "output_type": "display_data"
    }
   ],
   "source": [
    "sns.set_style(\"dark\")\n",
    "sns.countplot(x = \"survived\", hue = \"alone\", data = df, palette = \"viridis\")"
   ]
  },
  {
   "cell_type": "raw",
   "id": "874ae00e-6999-4b69-85cc-3683e0befbc5",
   "metadata": {},
   "source": [
    "We see that most of those who lost their lives on the ship were alone\n",
    "Most of the survivors were not alone"
   ]
  },
  {
   "cell_type": "markdown",
   "id": "14a1b311-f7e6-43c3-a7fb-fa03a86631ef",
   "metadata": {},
   "source": [
    "*What's the effect of being an adult male on board?*"
   ]
  },
  {
   "cell_type": "code",
   "execution_count": 129,
   "id": "71f07f20-60ed-4a53-91a3-8a792240f3c2",
   "metadata": {},
   "outputs": [
    {
     "data": {
      "text/plain": [
       "<Axes: xlabel='survived', ylabel='count'>"
      ]
     },
     "execution_count": 129,
     "metadata": {},
     "output_type": "execute_result"
    },
    {
     "data": {
      "image/png": "[encoded data removed]",
      "text/plain": [
       "<Figure size 640x480 with 1 Axes>"
      ]
     },
     "metadata": {},
     "output_type": "display_data"
    }
   ],
   "source": [
    "sns.set_style(\"ticks\")\n",
    "sns.countplot(x = \"survived\", hue = \"adult_male\", data = df, palette = \"rainbow\")"
   ]
  },
  {
   "cell_type": "raw",
   "id": "07f66a3e-4367-44c0-9108-e05b32c97c3f",
   "metadata": {},
   "source": [
    "We see that the vast majority of the adult_males died\n",
    "Remember the \"Women and children first. Captain goes down with the ship...\"? Explains why we have more non adult_male survivors\n",
    "Kids were given more priority. Can we say the same about women?"
   ]
  },
  {
   "cell_type": "code",
   "execution_count": 131,
   "id": "b9df39b7-c54c-4292-aaad-ce92525b90f4",
   "metadata": {},
   "outputs": [
    {
     "data": {
      "text/plain": [
       "<Axes: xlabel='survived', ylabel='count'>"
      ]
     },
     "execution_count": 131,
     "metadata": {},
     "output_type": "execute_result"
    },
    {
     "data": {
      "image/png": "[encoded data removed]",
      "text/plain": [
       "<Figure size 640x480 with 1 Axes>"
      ]
     },
     "metadata": {},
     "output_type": "display_data"
    }
   ],
   "source": [
    "# Investigating the effect of gender on survival\n",
    "sns.set_style(\"darkgrid\")\n",
    "sns.countplot(x = \"survived\", hue = \"sex\", data = df, palette = \"viridis\")"
   ]
  },
  {
   "cell_type": "markdown",
   "id": "1d3a1553-982a-461a-8daa-6d9307ea8943",
   "metadata": {},
   "source": [
    "Majority of those who lost their lives were men\n",
    "There were more female survivors\n",
    "We can conclude that indeed women and kids were given priority"
   ]
  },
  {
   "cell_type": "markdown",
   "id": "2c5c0e03-b98c-418a-9a43-7192696712aa",
   "metadata": {},
   "source": [
    "*Do the port cities, where the passengers embarked, impact survival?*"
   ]
  },
  {
   "cell_type": "code",
   "execution_count": 135,
   "id": "69616541-2ae5-44ae-af5a-9527aeb8a425",
   "metadata": {},
   "outputs": [
    {
     "data": {
      "text/plain": [
       "<Axes: xlabel='survived', ylabel='count'>"
      ]
     },
     "execution_count": 135,
     "metadata": {},
     "output_type": "execute_result"
    },
    {
     "data": {
      "image/png": "[encoded data removed]",
      "text/plain": [
       "<Figure size 640x480 with 1 Axes>"
      ]
     },
     "metadata": {},
     "output_type": "display_data"
    }
   ],
   "source": [
    "sns.set_style(\"darkgrid\")\n",
    "sns.countplot(x = \"survived\", hue = \"embark_town\", data = df, palette = \"rainbow\")"
   ]
  },
  {
   "cell_type": "raw",
   "id": "9ec62ae9-0274-4415-bc99-c6666592908d",
   "metadata": {},
   "source": [
    "Most of the deceased boarded the ship at Southampton\n",
    "We can see that most passengers boarded at Southampton"
   ]
  },
  {
   "cell_type": "code",
   "execution_count": 137,
   "id": "904e85ab-b4db-4bce-9139-065801e98806",
   "metadata": {},
   "outputs": [
    {
     "data": {
      "text/plain": [
       "embark_town\n",
       "Southampton    644\n",
       "Cherbourg      168\n",
       "Queenstown      77\n",
       "Name: count, dtype: int64"
      ]
     },
     "execution_count": 137,
     "metadata": {},
     "output_type": "execute_result"
    }
   ],
   "source": [
    "df.embark_town.value_counts()"
   ]
  },
  {
   "cell_type": "markdown",
   "id": "a85b8bc5-5b7f-4b76-b504-5d5c15ad8eb9",
   "metadata": {},
   "source": [
    "*What are the chances of survival if one had either a sibling or spouse?*"
   ]
  },
  {
   "cell_type": "code",
   "execution_count": 140,
   "id": "48628a7a-0a1a-47d3-b62c-b42c3789fdbe",
   "metadata": {},
   "outputs": [
    {
     "data": {
      "text/plain": [
       "<Axes: xlabel='survived', ylabel='count'>"
      ]
     },
     "execution_count": 140,
     "metadata": {},
     "output_type": "execute_result"
    },
    {
     "data": {
      "image/png": "[encoded data removed]",
      "text/plain": [
       "<Figure size 640x480 with 1 Axes>"
      ]
     },
     "metadata": {},
     "output_type": "display_data"
    }
   ],
   "source": [
    "sns.set_style(\"darkgrid\")\n",
    "sns.countplot(x = \"survived\", hue = \"sibsp\", data = df, palette = \"rainbow\")"
   ]
  },
  {
   "cell_type": "markdown",
   "id": "74a45603-12e9-4b54-bae3-7ac6f6701319",
   "metadata": {},
   "source": [
    "**Examining the structure of numeric variables**"
   ]
  },
  {
   "cell_type": "markdown",
   "id": "13730821-ba4b-429f-b013-7eb05449bbf0",
   "metadata": {},
   "source": [
    "*1. Age*"
   ]
  },
  {
   "cell_type": "code",
   "execution_count": 144,
   "id": "0a6236b1-d183-450f-8f71-86ad2bcdba4c",
   "metadata": {},
   "outputs": [
    {
     "data": {
      "text/plain": [
       "<Axes: xlabel='age', ylabel='Density'>"
      ]
     },
     "execution_count": 144,
     "metadata": {},
     "output_type": "execute_result"
    },
    {
     "data": {
      "image/png": "[encoded data removed]",
      "text/plain": [
       "<Figure size 1000x600 with 1 Axes>"
      ]
     },
     "metadata": {},
     "output_type": "display_data"
    }
   ],
   "source": [
    "plt.figure(figsize = (10,6))\n",
    "sns.distplot(df[\"age\"], color = \"darkred\")"
   ]
  },
  {
   "cell_type": "raw",
   "id": "3f93e3f0-b0b3-418b-8bb2-c4e8edf5ea52",
   "metadata": {},
   "source": [
    "Most passengers are aged between 25 - 35\n",
    "There's few very old passengers aboard. "
   ]
  },
  {
   "cell_type": "markdown",
   "id": "6f0674a0-39db-40c6-8aea-7894c62458e8",
   "metadata": {},
   "source": [
    "*2. fare (ticket price)*"
   ]
  },
  {
   "cell_type": "code",
   "execution_count": 147,
   "id": "07b0c41d-3b90-4052-acf1-a9535af262b6",
   "metadata": {},
   "outputs": [
    {
     "data": {
      "text/plain": [
       "<Axes: xlabel='fare', ylabel='Density'>"
      ]
     },
     "execution_count": 147,
     "metadata": {},
     "output_type": "execute_result"
    },
    {
     "data": {
      "image/png": "[encoded data removed]",
      "text/plain": [
       "<Figure size 1000x600 with 1 Axes>"
      ]
     },
     "metadata": {},
     "output_type": "display_data"
    }
   ],
   "source": [
    "plt.figure(figsize = (10,6))\n",
    "sns.distplot(df[\"fare\"], color = \"purple\")"
   ]
  },
  {
   "cell_type": "raw",
   "id": "2c1df944-d8a9-4b64-ae2c-e990b3d2c540",
   "metadata": {},
   "source": [
    "Most of the tickets sold were priced at between 0 - 50"
   ]
  },
  {
   "cell_type": "code",
   "execution_count": 149,
   "id": "b939ea91-7642-49fd-afda-cb3a1b3f9248",
   "metadata": {},
   "outputs": [
    {
     "name": "stdout",
     "output_type": "stream",
     "text": [
      "Mode: 0    8.05\n",
      "Name: fare, dtype: float64\n"
     ]
    }
   ],
   "source": [
    "# Calculate the mode of the fare variable\n",
    "mode_mpg = df['fare'].mode()\n",
    "print(\"Mode:\", mode_mpg)"
   ]
  },
  {
   "cell_type": "code",
   "execution_count": 151,
   "id": "113d240a-1cde-4b26-9e9a-06568570dca4",
   "metadata": {},
   "outputs": [
    {
     "name": "stdout",
     "output_type": "stream",
     "text": [
      "Mean: 32.09668087739032\n"
     ]
    }
   ],
   "source": [
    "# Calculate the mean of the fare variable\n",
    "mean_mpg = df['fare'].mean()\n",
    "print(\"Mean:\", mean_mpg)"
   ]
  },
  {
   "cell_type": "code",
   "execution_count": 153,
   "id": "edf46934-6a90-4284-9c83-374265118841",
   "metadata": {},
   "outputs": [
    {
     "name": "stdout",
     "output_type": "stream",
     "text": [
      "Median: 14.4542\n"
     ]
    }
   ],
   "source": [
    "# Calculate median of the fare variable\n",
    "median_mpg = df['fare'].median()\n",
    "print(\"Median:\", median_mpg)"
   ]
  },
  {
   "cell_type": "raw",
   "id": "98e38b6c-3033-4a9c-b9ea-b4f2d593fec0",
   "metadata": {},
   "source": [
    "Since mode < median < mean, then right skewed(positively skewed)"
   ]
  },
  {
   "cell_type": "markdown",
   "id": "3d59a2c1-14dd-43c9-8db5-412aca7fa32b",
   "metadata": {},
   "source": [
    "**Heatmap of Correlation Matrix**"
   ]
  },
  {
   "cell_type": "code",
   "execution_count": 156,
   "id": "27b74d24-084c-407f-9f2f-58c188b18dae",
   "metadata": {},
   "outputs": [
    {
     "name": "stdout",
     "output_type": "stream",
     "text": [
      "<class 'pandas.core.frame.DataFrame'>\n",
      "Index: 889 entries, 0 to 890\n",
      "Data columns (total 11 columns):\n",
      " #   Column       Non-Null Count  Dtype  \n",
      "---  ------       --------------  -----  \n",
      " 0   survived     889 non-null    int64  \n",
      " 1   pclass       889 non-null    int64  \n",
      " 2   sex          889 non-null    object \n",
      " 3   age          889 non-null    float64\n",
      " 4   sibsp        889 non-null    int64  \n",
      " 5   parch        889 non-null    int64  \n",
      " 6   fare         889 non-null    float64\n",
      " 7   who          889 non-null    object \n",
      " 8   adult_male   889 non-null    bool   \n",
      " 9   embark_town  889 non-null    object \n",
      " 10  alone        889 non-null    bool   \n",
      "dtypes: bool(2), float64(2), int64(4), object(3)\n",
      "memory usage: 71.2+ KB\n"
     ]
    }
   ],
   "source": [
    "df.info()"
   ]
  },
  {
   "cell_type": "raw",
   "id": "0033a4e3-902a-4cf9-8e40-a6e07630cb77",
   "metadata": {},
   "source": [
    "Let's do some fearture engineering to assist plot the correlation matrix heatmap"
   ]
  },
  {
   "cell_type": "markdown",
   "id": "53846c65-d378-47cb-be5d-fcac41165eec",
   "metadata": {},
   "source": [
    "*Feature engineering*"
   ]
  },
  {
   "cell_type": "code",
   "execution_count": 158,
   "id": "f4b2e78c-2c98-435b-a875-c28f7a9b109a",
   "metadata": {},
   "outputs": [
    {
     "data": {
      "text/html": [
       "<div>\n",
       "<style scoped>\n",
       "    .dataframe tbody tr th:only-of-type {\n",
       "        vertical-align: middle;\n",
       "    }\n",
       "\n",
       "    .dataframe tbody tr th {\n",
       "        vertical-align: top;\n",
       "    }\n",
       "\n",
       "    .dataframe thead th {\n",
       "        text-align: right;\n",
       "    }\n",
       "</style>\n",
       "<table border=\"1\" class=\"dataframe\">\n",
       "  <thead>\n",
       "    <tr style=\"text-align: right;\">\n",
       "      <th></th>\n",
       "      <th>survived</th>\n",
       "      <th>pclass</th>\n",
       "      <th>age</th>\n",
       "      <th>sibsp</th>\n",
       "      <th>parch</th>\n",
       "      <th>fare</th>\n",
       "      <th>adult_male</th>\n",
       "      <th>alone</th>\n",
       "      <th>sex_male</th>\n",
       "      <th>who_man</th>\n",
       "      <th>who_woman</th>\n",
       "      <th>embark_town_Queenstown</th>\n",
       "      <th>embark_town_Southampton</th>\n",
       "    </tr>\n",
       "  </thead>\n",
       "  <tbody>\n",
       "    <tr>\n",
       "      <th>0</th>\n",
       "      <td>0</td>\n",
       "      <td>3</td>\n",
       "      <td>22.0</td>\n",
       "      <td>1</td>\n",
       "      <td>0</td>\n",
       "      <td>7.2500</td>\n",
       "      <td>True</td>\n",
       "      <td>False</td>\n",
       "      <td>True</td>\n",
       "      <td>True</td>\n",
       "      <td>False</td>\n",
       "      <td>False</td>\n",
       "      <td>True</td>\n",
       "    </tr>\n",
       "    <tr>\n",
       "      <th>1</th>\n",
       "      <td>1</td>\n",
       "      <td>1</td>\n",
       "      <td>38.0</td>\n",
       "      <td>1</td>\n",
       "      <td>0</td>\n",
       "      <td>71.2833</td>\n",
       "      <td>False</td>\n",
       "      <td>False</td>\n",
       "      <td>False</td>\n",
       "      <td>False</td>\n",
       "      <td>True</td>\n",
       "      <td>False</td>\n",
       "      <td>False</td>\n",
       "    </tr>\n",
       "    <tr>\n",
       "      <th>2</th>\n",
       "      <td>1</td>\n",
       "      <td>3</td>\n",
       "      <td>26.0</td>\n",
       "      <td>0</td>\n",
       "      <td>0</td>\n",
       "      <td>7.9250</td>\n",
       "      <td>False</td>\n",
       "      <td>True</td>\n",
       "      <td>False</td>\n",
       "      <td>False</td>\n",
       "      <td>True</td>\n",
       "      <td>False</td>\n",
       "      <td>True</td>\n",
       "    </tr>\n",
       "    <tr>\n",
       "      <th>3</th>\n",
       "      <td>1</td>\n",
       "      <td>1</td>\n",
       "      <td>35.0</td>\n",
       "      <td>1</td>\n",
       "      <td>0</td>\n",
       "      <td>53.1000</td>\n",
       "      <td>False</td>\n",
       "      <td>False</td>\n",
       "      <td>False</td>\n",
       "      <td>False</td>\n",
       "      <td>True</td>\n",
       "      <td>False</td>\n",
       "      <td>True</td>\n",
       "    </tr>\n",
       "    <tr>\n",
       "      <th>4</th>\n",
       "      <td>0</td>\n",
       "      <td>3</td>\n",
       "      <td>35.0</td>\n",
       "      <td>0</td>\n",
       "      <td>0</td>\n",
       "      <td>8.0500</td>\n",
       "      <td>True</td>\n",
       "      <td>True</td>\n",
       "      <td>True</td>\n",
       "      <td>True</td>\n",
       "      <td>False</td>\n",
       "      <td>False</td>\n",
       "      <td>True</td>\n",
       "    </tr>\n",
       "  </tbody>\n",
       "</table>\n",
       "</div>"
      ],
      "text/plain": [
       "   survived  pclass   age  sibsp  parch     fare  adult_male  alone  sex_male  \\\n",
       "0         0       3  22.0      1      0   7.2500        True  False      True   \n",
       "1         1       1  38.0      1      0  71.2833       False  False     False   \n",
       "2         1       3  26.0      0      0   7.9250       False   True     False   \n",
       "3         1       1  35.0      1      0  53.1000       False  False     False   \n",
       "4         0       3  35.0      0      0   8.0500        True   True      True   \n",
       "\n",
       "   who_man  who_woman  embark_town_Queenstown  embark_town_Southampton  \n",
       "0     True      False                   False                     True  \n",
       "1    False       True                   False                    False  \n",
       "2    False       True                   False                     True  \n",
       "3    False       True                   False                     True  \n",
       "4     True      False                   False                     True  "
      ]
     },
     "execution_count": 158,
     "metadata": {},
     "output_type": "execute_result"
    }
   ],
   "source": [
    "df = pd.get_dummies(df, drop_first = True)\n",
    "df.head()"
   ]
  },
  {
   "cell_type": "code",
   "execution_count": 160,
   "id": "bac071b9-cde3-4c6c-94a0-b76119fac765",
   "metadata": {},
   "outputs": [
    {
     "name": "stdout",
     "output_type": "stream",
     "text": [
      "<class 'pandas.core.frame.DataFrame'>\n",
      "Index: 889 entries, 0 to 890\n",
      "Data columns (total 13 columns):\n",
      " #   Column                   Non-Null Count  Dtype  \n",
      "---  ------                   --------------  -----  \n",
      " 0   survived                 889 non-null    int64  \n",
      " 1   pclass                   889 non-null    int64  \n",
      " 2   age                      889 non-null    float64\n",
      " 3   sibsp                    889 non-null    int64  \n",
      " 4   parch                    889 non-null    int64  \n",
      " 5   fare                     889 non-null    float64\n",
      " 6   adult_male               889 non-null    bool   \n",
      " 7   alone                    889 non-null    bool   \n",
      " 8   sex_male                 889 non-null    bool   \n",
      " 9   who_man                  889 non-null    bool   \n",
      " 10  who_woman                889 non-null    bool   \n",
      " 11  embark_town_Queenstown   889 non-null    bool   \n",
      " 12  embark_town_Southampton  889 non-null    bool   \n",
      "dtypes: bool(7), float64(2), int64(4)\n",
      "memory usage: 54.7 KB\n"
     ]
    }
   ],
   "source": [
    "df.info()"
   ]
  },
  {
   "cell_type": "code",
   "execution_count": 162,
   "id": "8ae4aae6-faaf-4613-8070-f29c08cb335f",
   "metadata": {},
   "outputs": [
    {
     "data": {
      "text/html": [
       "<div>\n",
       "<style scoped>\n",
       "    .dataframe tbody tr th:only-of-type {\n",
       "        vertical-align: middle;\n",
       "    }\n",
       "\n",
       "    .dataframe tbody tr th {\n",
       "        vertical-align: top;\n",
       "    }\n",
       "\n",
       "    .dataframe thead th {\n",
       "        text-align: right;\n",
       "    }\n",
       "</style>\n",
       "<table border=\"1\" class=\"dataframe\">\n",
       "  <thead>\n",
       "    <tr style=\"text-align: right;\">\n",
       "      <th></th>\n",
       "      <th>survived</th>\n",
       "      <th>pclass</th>\n",
       "      <th>age</th>\n",
       "      <th>sibsp</th>\n",
       "      <th>parch</th>\n",
       "      <th>fare</th>\n",
       "      <th>adult_male</th>\n",
       "      <th>alone</th>\n",
       "      <th>sex_male</th>\n",
       "      <th>who_man</th>\n",
       "      <th>who_woman</th>\n",
       "      <th>embark_town_Queenstown</th>\n",
       "      <th>embark_town_Southampton</th>\n",
       "    </tr>\n",
       "  </thead>\n",
       "  <tbody>\n",
       "    <tr>\n",
       "      <th>survived</th>\n",
       "      <td>1.000000</td>\n",
       "      <td>-0.335549</td>\n",
       "      <td>-0.051524</td>\n",
       "      <td>-0.034040</td>\n",
       "      <td>0.083151</td>\n",
       "      <td>0.255290</td>\n",
       "      <td>-0.555520</td>\n",
       "      <td>-0.206207</td>\n",
       "      <td>-0.541585</td>\n",
       "      <td>-0.555520</td>\n",
       "      <td>0.504460</td>\n",
       "      <td>0.004536</td>\n",
       "      <td>-0.151777</td>\n",
       "    </tr>\n",
       "    <tr>\n",
       "      <th>pclass</th>\n",
       "      <td>-0.335549</td>\n",
       "      <td>1.000000</td>\n",
       "      <td>-0.408898</td>\n",
       "      <td>0.081656</td>\n",
       "      <td>0.016824</td>\n",
       "      <td>-0.548193</td>\n",
       "      <td>0.090098</td>\n",
       "      <td>0.138553</td>\n",
       "      <td>0.127741</td>\n",
       "      <td>0.090098</td>\n",
       "      <td>-0.172640</td>\n",
       "      <td>0.220558</td>\n",
       "      <td>0.076466</td>\n",
       "    </tr>\n",
       "    <tr>\n",
       "      <th>age</th>\n",
       "      <td>-0.051524</td>\n",
       "      <td>-0.408898</td>\n",
       "      <td>1.000000</td>\n",
       "      <td>-0.243160</td>\n",
       "      <td>-0.170916</td>\n",
       "      <td>0.122202</td>\n",
       "      <td>0.245941</td>\n",
       "      <td>0.163792</td>\n",
       "      <td>0.083865</td>\n",
       "      <td>0.245941</td>\n",
       "      <td>0.086793</td>\n",
       "      <td>-0.081529</td>\n",
       "      <td>0.013056</td>\n",
       "    </tr>\n",
       "    <tr>\n",
       "      <th>sibsp</th>\n",
       "      <td>-0.034040</td>\n",
       "      <td>0.081656</td>\n",
       "      <td>-0.243160</td>\n",
       "      <td>1.000000</td>\n",
       "      <td>0.414542</td>\n",
       "      <td>0.160887</td>\n",
       "      <td>-0.255401</td>\n",
       "      <td>-0.584186</td>\n",
       "      <td>-0.116348</td>\n",
       "      <td>-0.255401</td>\n",
       "      <td>0.048824</td>\n",
       "      <td>-0.026692</td>\n",
       "      <td>0.069438</td>\n",
       "    </tr>\n",
       "    <tr>\n",
       "      <th>parch</th>\n",
       "      <td>0.083151</td>\n",
       "      <td>0.016824</td>\n",
       "      <td>-0.170916</td>\n",
       "      <td>0.414542</td>\n",
       "      <td>1.000000</td>\n",
       "      <td>0.217532</td>\n",
       "      <td>-0.351945</td>\n",
       "      <td>-0.583112</td>\n",
       "      <td>-0.247508</td>\n",
       "      <td>-0.351945</td>\n",
       "      <td>0.152210</td>\n",
       "      <td>-0.081585</td>\n",
       "      <td>0.061512</td>\n",
       "    </tr>\n",
       "    <tr>\n",
       "      <th>fare</th>\n",
       "      <td>0.255290</td>\n",
       "      <td>-0.548193</td>\n",
       "      <td>0.122202</td>\n",
       "      <td>0.160887</td>\n",
       "      <td>0.217532</td>\n",
       "      <td>1.000000</td>\n",
       "      <td>-0.179851</td>\n",
       "      <td>-0.274079</td>\n",
       "      <td>-0.179958</td>\n",
       "      <td>-0.179851</td>\n",
       "      <td>0.188650</td>\n",
       "      <td>-0.116684</td>\n",
       "      <td>-0.163758</td>\n",
       "    </tr>\n",
       "    <tr>\n",
       "      <th>adult_male</th>\n",
       "      <td>-0.555520</td>\n",
       "      <td>0.090098</td>\n",
       "      <td>0.245941</td>\n",
       "      <td>-0.255401</td>\n",
       "      <td>-0.351945</td>\n",
       "      <td>-0.179851</td>\n",
       "      <td>1.000000</td>\n",
       "      <td>0.407992</td>\n",
       "      <td>0.908250</td>\n",
       "      <td>1.000000</td>\n",
       "      <td>-0.813572</td>\n",
       "      <td>-0.077783</td>\n",
       "      <td>0.108062</td>\n",
       "    </tr>\n",
       "    <tr>\n",
       "      <th>alone</th>\n",
       "      <td>-0.206207</td>\n",
       "      <td>0.138553</td>\n",
       "      <td>0.163792</td>\n",
       "      <td>-0.584186</td>\n",
       "      <td>-0.583112</td>\n",
       "      <td>-0.274079</td>\n",
       "      <td>0.407992</td>\n",
       "      <td>1.000000</td>\n",
       "      <td>0.306985</td>\n",
       "      <td>0.407992</td>\n",
       "      <td>-0.214510</td>\n",
       "      <td>0.087099</td>\n",
       "      <td>0.027982</td>\n",
       "    </tr>\n",
       "    <tr>\n",
       "      <th>sex_male</th>\n",
       "      <td>-0.541585</td>\n",
       "      <td>0.127741</td>\n",
       "      <td>0.083865</td>\n",
       "      <td>-0.116348</td>\n",
       "      <td>-0.247508</td>\n",
       "      <td>-0.179958</td>\n",
       "      <td>0.908250</td>\n",
       "      <td>0.306985</td>\n",
       "      <td>1.000000</td>\n",
       "      <td>0.908250</td>\n",
       "      <td>-0.895758</td>\n",
       "      <td>-0.075217</td>\n",
       "      <td>0.121405</td>\n",
       "    </tr>\n",
       "    <tr>\n",
       "      <th>who_man</th>\n",
       "      <td>-0.555520</td>\n",
       "      <td>0.090098</td>\n",
       "      <td>0.245941</td>\n",
       "      <td>-0.255401</td>\n",
       "      <td>-0.351945</td>\n",
       "      <td>-0.179851</td>\n",
       "      <td>1.000000</td>\n",
       "      <td>0.407992</td>\n",
       "      <td>0.908250</td>\n",
       "      <td>1.000000</td>\n",
       "      <td>-0.813572</td>\n",
       "      <td>-0.077783</td>\n",
       "      <td>0.108062</td>\n",
       "    </tr>\n",
       "    <tr>\n",
       "      <th>who_woman</th>\n",
       "      <td>0.504460</td>\n",
       "      <td>-0.172640</td>\n",
       "      <td>0.086793</td>\n",
       "      <td>0.048824</td>\n",
       "      <td>0.152210</td>\n",
       "      <td>0.188650</td>\n",
       "      <td>-0.813572</td>\n",
       "      <td>-0.214510</td>\n",
       "      <td>-0.895758</td>\n",
       "      <td>-0.813572</td>\n",
       "      <td>1.000000</td>\n",
       "      <td>0.101864</td>\n",
       "      <td>-0.114353</td>\n",
       "    </tr>\n",
       "    <tr>\n",
       "      <th>embark_town_Queenstown</th>\n",
       "      <td>0.004536</td>\n",
       "      <td>0.220558</td>\n",
       "      <td>-0.081529</td>\n",
       "      <td>-0.026692</td>\n",
       "      <td>-0.081585</td>\n",
       "      <td>-0.116684</td>\n",
       "      <td>-0.077783</td>\n",
       "      <td>0.087099</td>\n",
       "      <td>-0.075217</td>\n",
       "      <td>-0.077783</td>\n",
       "      <td>0.101864</td>\n",
       "      <td>1.000000</td>\n",
       "      <td>-0.499261</td>\n",
       "    </tr>\n",
       "    <tr>\n",
       "      <th>embark_town_Southampton</th>\n",
       "      <td>-0.151777</td>\n",
       "      <td>0.076466</td>\n",
       "      <td>0.013056</td>\n",
       "      <td>0.069438</td>\n",
       "      <td>0.061512</td>\n",
       "      <td>-0.163758</td>\n",
       "      <td>0.108062</td>\n",
       "      <td>0.027982</td>\n",
       "      <td>0.121405</td>\n",
       "      <td>0.108062</td>\n",
       "      <td>-0.114353</td>\n",
       "      <td>-0.499261</td>\n",
       "      <td>1.000000</td>\n",
       "    </tr>\n",
       "  </tbody>\n",
       "</table>\n",
       "</div>"
      ],
      "text/plain": [
       "                         survived    pclass       age     sibsp     parch  \\\n",
       "survived                 1.000000 -0.335549 -0.051524 -0.034040  0.083151   \n",
       "pclass                  -0.335549  1.000000 -0.408898  0.081656  0.016824   \n",
       "age                     -0.051524 -0.408898  1.000000 -0.243160 -0.170916   \n",
       "sibsp                   -0.034040  0.081656 -0.243160  1.000000  0.414542   \n",
       "parch                    0.083151  0.016824 -0.170916  0.414542  1.000000   \n",
       "fare                     0.255290 -0.548193  0.122202  0.160887  0.217532   \n",
       "adult_male              -0.555520  0.090098  0.245941 -0.255401 -0.351945   \n",
       "alone                   -0.206207  0.138553  0.163792 -0.584186 -0.583112   \n",
       "sex_male                -0.541585  0.127741  0.083865 -0.116348 -0.247508   \n",
       "who_man                 -0.555520  0.090098  0.245941 -0.255401 -0.351945   \n",
       "who_woman                0.504460 -0.172640  0.086793  0.048824  0.152210   \n",
       "embark_town_Queenstown   0.004536  0.220558 -0.081529 -0.026692 -0.081585   \n",
       "embark_town_Southampton -0.151777  0.076466  0.013056  0.069438  0.061512   \n",
       "\n",
       "                             fare  adult_male     alone  sex_male   who_man  \\\n",
       "survived                 0.255290   -0.555520 -0.206207 -0.541585 -0.555520   \n",
       "pclass                  -0.548193    0.090098  0.138553  0.127741  0.090098   \n",
       "age                      0.122202    0.245941  0.163792  0.083865  0.245941   \n",
       "sibsp                    0.160887   -0.255401 -0.584186 -0.116348 -0.255401   \n",
       "parch                    0.217532   -0.351945 -0.583112 -0.247508 -0.351945   \n",
       "fare                     1.000000   -0.179851 -0.274079 -0.179958 -0.179851   \n",
       "adult_male              -0.179851    1.000000  0.407992  0.908250  1.000000   \n",
       "alone                   -0.274079    0.407992  1.000000  0.306985  0.407992   \n",
       "sex_male                -0.179958    0.908250  0.306985  1.000000  0.908250   \n",
       "who_man                 -0.179851    1.000000  0.407992  0.908250  1.000000   \n",
       "who_woman                0.188650   -0.813572 -0.214510 -0.895758 -0.813572   \n",
       "embark_town_Queenstown  -0.116684   -0.077783  0.087099 -0.075217 -0.077783   \n",
       "embark_town_Southampton -0.163758    0.108062  0.027982  0.121405  0.108062   \n",
       "\n",
       "                         who_woman  embark_town_Queenstown  \\\n",
       "survived                  0.504460                0.004536   \n",
       "pclass                   -0.172640                0.220558   \n",
       "age                       0.086793               -0.081529   \n",
       "sibsp                     0.048824               -0.026692   \n",
       "parch                     0.152210               -0.081585   \n",
       "fare                      0.188650               -0.116684   \n",
       "adult_male               -0.813572               -0.077783   \n",
       "alone                    -0.214510                0.087099   \n",
       "sex_male                 -0.895758               -0.075217   \n",
       "who_man                  -0.813572               -0.077783   \n",
       "who_woman                 1.000000                0.101864   \n",
       "embark_town_Queenstown    0.101864                1.000000   \n",
       "embark_town_Southampton  -0.114353               -0.499261   \n",
       "\n",
       "                         embark_town_Southampton  \n",
       "survived                               -0.151777  \n",
       "pclass                                  0.076466  \n",
       "age                                     0.013056  \n",
       "sibsp                                   0.069438  \n",
       "parch                                   0.061512  \n",
       "fare                                   -0.163758  \n",
       "adult_male                              0.108062  \n",
       "alone                                   0.027982  \n",
       "sex_male                                0.121405  \n",
       "who_man                                 0.108062  \n",
       "who_woman                              -0.114353  \n",
       "embark_town_Queenstown                 -0.499261  \n",
       "embark_town_Southampton                 1.000000  "
      ]
     },
     "execution_count": 162,
     "metadata": {},
     "output_type": "execute_result"
    }
   ],
   "source": [
    "corr_matrix = df.corr()\n",
    "corr_matrix"
   ]
  },
  {
   "cell_type": "code",
   "execution_count": 164,
   "id": "f40b3fa6-92ec-4300-8726-60fe02d9ebb3",
   "metadata": {},
   "outputs": [
    {
     "data": {
      "image/png": "[encoded data removed]",
      "text/plain": [
       "<Figure size 1500x900 with 2 Axes>"
      ]
     },
     "metadata": {},
     "output_type": "display_data"
    }
   ],
   "source": [
    "plt.figure(figsize=(15, 9))\n",
    "corr_matrix = df.corr()\n",
    "sns.heatmap(corr_matrix, annot = True, fmt=\".2f\", linewidth=0.5, cmap=\"coolwarm\", vmin = -1, vmax = 1)\n",
    "plt.show()"
   ]
  },
  {
   "cell_type": "raw",
   "id": "7f135a11-430a-42ef-af45-08c2deb5b679",
   "metadata": {},
   "source": [
    "On our target variable survived, the variables with the lowest correlation are embark_town_Queenstown, sibsp, age and parch\n",
    "We'll therefore remove these variables from the dataset before we begin our machine learning"
   ]
  },
  {
   "cell_type": "raw",
   "id": "9031cb76-667c-4e86-b2d0-106a9edb335d",
   "metadata": {},
   "source": [
    "But before that, let's check for multicollinearity"
   ]
  },
  {
   "cell_type": "markdown",
   "id": "7a64709e-d54b-4741-b591-a969cbd72fef",
   "metadata": {},
   "source": [
    "*Multicollinearity check with Correlation Matrix with Thresholds method:*"
   ]
  },
  {
   "cell_type": "code",
   "execution_count": 167,
   "id": "9e77f9fb-5f65-4bf1-ac1e-c9263956ef8e",
   "metadata": {},
   "outputs": [
    {
     "data": {
      "text/html": [
       "<div>\n",
       "<style scoped>\n",
       "    .dataframe tbody tr th:only-of-type {\n",
       "        vertical-align: middle;\n",
       "    }\n",
       "\n",
       "    .dataframe tbody tr th {\n",
       "        vertical-align: top;\n",
       "    }\n",
       "\n",
       "    .dataframe thead th {\n",
       "        text-align: right;\n",
       "    }\n",
       "</style>\n",
       "<table border=\"1\" class=\"dataframe\">\n",
       "  <thead>\n",
       "    <tr style=\"text-align: right;\">\n",
       "      <th></th>\n",
       "      <th>survived</th>\n",
       "      <th>pclass</th>\n",
       "      <th>age</th>\n",
       "      <th>sibsp</th>\n",
       "      <th>parch</th>\n",
       "      <th>fare</th>\n",
       "      <th>adult_male</th>\n",
       "      <th>alone</th>\n",
       "      <th>sex_male</th>\n",
       "      <th>who_man</th>\n",
       "      <th>who_woman</th>\n",
       "      <th>embark_town_Queenstown</th>\n",
       "      <th>embark_town_Southampton</th>\n",
       "    </tr>\n",
       "  </thead>\n",
       "  <tbody>\n",
       "    <tr>\n",
       "      <th>survived</th>\n",
       "      <td>1.000000</td>\n",
       "      <td>0.335549</td>\n",
       "      <td>0.051524</td>\n",
       "      <td>0.034040</td>\n",
       "      <td>0.083151</td>\n",
       "      <td>0.255290</td>\n",
       "      <td>0.555520</td>\n",
       "      <td>0.206207</td>\n",
       "      <td>0.541585</td>\n",
       "      <td>0.555520</td>\n",
       "      <td>0.504460</td>\n",
       "      <td>0.004536</td>\n",
       "      <td>0.151777</td>\n",
       "    </tr>\n",
       "    <tr>\n",
       "      <th>pclass</th>\n",
       "      <td>0.335549</td>\n",
       "      <td>1.000000</td>\n",
       "      <td>0.408898</td>\n",
       "      <td>0.081656</td>\n",
       "      <td>0.016824</td>\n",
       "      <td>0.548193</td>\n",
       "      <td>0.090098</td>\n",
       "      <td>0.138553</td>\n",
       "      <td>0.127741</td>\n",
       "      <td>0.090098</td>\n",
       "      <td>0.172640</td>\n",
       "      <td>0.220558</td>\n",
       "      <td>0.076466</td>\n",
       "    </tr>\n",
       "    <tr>\n",
       "      <th>age</th>\n",
       "      <td>0.051524</td>\n",
       "      <td>0.408898</td>\n",
       "      <td>1.000000</td>\n",
       "      <td>0.243160</td>\n",
       "      <td>0.170916</td>\n",
       "      <td>0.122202</td>\n",
       "      <td>0.245941</td>\n",
       "      <td>0.163792</td>\n",
       "      <td>0.083865</td>\n",
       "      <td>0.245941</td>\n",
       "      <td>0.086793</td>\n",
       "      <td>0.081529</td>\n",
       "      <td>0.013056</td>\n",
       "    </tr>\n",
       "    <tr>\n",
       "      <th>sibsp</th>\n",
       "      <td>0.034040</td>\n",
       "      <td>0.081656</td>\n",
       "      <td>0.243160</td>\n",
       "      <td>1.000000</td>\n",
       "      <td>0.414542</td>\n",
       "      <td>0.160887</td>\n",
       "      <td>0.255401</td>\n",
       "      <td>0.584186</td>\n",
       "      <td>0.116348</td>\n",
       "      <td>0.255401</td>\n",
       "      <td>0.048824</td>\n",
       "      <td>0.026692</td>\n",
       "      <td>0.069438</td>\n",
       "    </tr>\n",
       "    <tr>\n",
       "      <th>parch</th>\n",
       "      <td>0.083151</td>\n",
       "      <td>0.016824</td>\n",
       "      <td>0.170916</td>\n",
       "      <td>0.414542</td>\n",
       "      <td>1.000000</td>\n",
       "      <td>0.217532</td>\n",
       "      <td>0.351945</td>\n",
       "      <td>0.583112</td>\n",
       "      <td>0.247508</td>\n",
       "      <td>0.351945</td>\n",
       "      <td>0.152210</td>\n",
       "      <td>0.081585</td>\n",
       "      <td>0.061512</td>\n",
       "    </tr>\n",
       "    <tr>\n",
       "      <th>fare</th>\n",
       "      <td>0.255290</td>\n",
       "      <td>0.548193</td>\n",
       "      <td>0.122202</td>\n",
       "      <td>0.160887</td>\n",
       "      <td>0.217532</td>\n",
       "      <td>1.000000</td>\n",
       "      <td>0.179851</td>\n",
       "      <td>0.274079</td>\n",
       "      <td>0.179958</td>\n",
       "      <td>0.179851</td>\n",
       "      <td>0.188650</td>\n",
       "      <td>0.116684</td>\n",
       "      <td>0.163758</td>\n",
       "    </tr>\n",
       "    <tr>\n",
       "      <th>adult_male</th>\n",
       "      <td>0.555520</td>\n",
       "      <td>0.090098</td>\n",
       "      <td>0.245941</td>\n",
       "      <td>0.255401</td>\n",
       "      <td>0.351945</td>\n",
       "      <td>0.179851</td>\n",
       "      <td>1.000000</td>\n",
       "      <td>0.407992</td>\n",
       "      <td>0.908250</td>\n",
       "      <td>1.000000</td>\n",
       "      <td>0.813572</td>\n",
       "      <td>0.077783</td>\n",
       "      <td>0.108062</td>\n",
       "    </tr>\n",
       "    <tr>\n",
       "      <th>alone</th>\n",
       "      <td>0.206207</td>\n",
       "      <td>0.138553</td>\n",
       "      <td>0.163792</td>\n",
       "      <td>0.584186</td>\n",
       "      <td>0.583112</td>\n",
       "      <td>0.274079</td>\n",
       "      <td>0.407992</td>\n",
       "      <td>1.000000</td>\n",
       "      <td>0.306985</td>\n",
       "      <td>0.407992</td>\n",
       "      <td>0.214510</td>\n",
       "      <td>0.087099</td>\n",
       "      <td>0.027982</td>\n",
       "    </tr>\n",
       "    <tr>\n",
       "      <th>sex_male</th>\n",
       "      <td>0.541585</td>\n",
       "      <td>0.127741</td>\n",
       "      <td>0.083865</td>\n",
       "      <td>0.116348</td>\n",
       "      <td>0.247508</td>\n",
       "      <td>0.179958</td>\n",
       "      <td>0.908250</td>\n",
       "      <td>0.306985</td>\n",
       "      <td>1.000000</td>\n",
       "      <td>0.908250</td>\n",
       "      <td>0.895758</td>\n",
       "      <td>0.075217</td>\n",
       "      <td>0.121405</td>\n",
       "    </tr>\n",
       "    <tr>\n",
       "      <th>who_man</th>\n",
       "      <td>0.555520</td>\n",
       "      <td>0.090098</td>\n",
       "      <td>0.245941</td>\n",
       "      <td>0.255401</td>\n",
       "      <td>0.351945</td>\n",
       "      <td>0.179851</td>\n",
       "      <td>1.000000</td>\n",
       "      <td>0.407992</td>\n",
       "      <td>0.908250</td>\n",
       "      <td>1.000000</td>\n",
       "      <td>0.813572</td>\n",
       "      <td>0.077783</td>\n",
       "      <td>0.108062</td>\n",
       "    </tr>\n",
       "    <tr>\n",
       "      <th>who_woman</th>\n",
       "      <td>0.504460</td>\n",
       "      <td>0.172640</td>\n",
       "      <td>0.086793</td>\n",
       "      <td>0.048824</td>\n",
       "      <td>0.152210</td>\n",
       "      <td>0.188650</td>\n",
       "      <td>0.813572</td>\n",
       "      <td>0.214510</td>\n",
       "      <td>0.895758</td>\n",
       "      <td>0.813572</td>\n",
       "      <td>1.000000</td>\n",
       "      <td>0.101864</td>\n",
       "      <td>0.114353</td>\n",
       "    </tr>\n",
       "    <tr>\n",
       "      <th>embark_town_Queenstown</th>\n",
       "      <td>0.004536</td>\n",
       "      <td>0.220558</td>\n",
       "      <td>0.081529</td>\n",
       "      <td>0.026692</td>\n",
       "      <td>0.081585</td>\n",
       "      <td>0.116684</td>\n",
       "      <td>0.077783</td>\n",
       "      <td>0.087099</td>\n",
       "      <td>0.075217</td>\n",
       "      <td>0.077783</td>\n",
       "      <td>0.101864</td>\n",
       "      <td>1.000000</td>\n",
       "      <td>0.499261</td>\n",
       "    </tr>\n",
       "    <tr>\n",
       "      <th>embark_town_Southampton</th>\n",
       "      <td>0.151777</td>\n",
       "      <td>0.076466</td>\n",
       "      <td>0.013056</td>\n",
       "      <td>0.069438</td>\n",
       "      <td>0.061512</td>\n",
       "      <td>0.163758</td>\n",
       "      <td>0.108062</td>\n",
       "      <td>0.027982</td>\n",
       "      <td>0.121405</td>\n",
       "      <td>0.108062</td>\n",
       "      <td>0.114353</td>\n",
       "      <td>0.499261</td>\n",
       "      <td>1.000000</td>\n",
       "    </tr>\n",
       "  </tbody>\n",
       "</table>\n",
       "</div>"
      ],
      "text/plain": [
       "                         survived    pclass       age     sibsp     parch  \\\n",
       "survived                 1.000000  0.335549  0.051524  0.034040  0.083151   \n",
       "pclass                   0.335549  1.000000  0.408898  0.081656  0.016824   \n",
       "age                      0.051524  0.408898  1.000000  0.243160  0.170916   \n",
       "sibsp                    0.034040  0.081656  0.243160  1.000000  0.414542   \n",
       "parch                    0.083151  0.016824  0.170916  0.414542  1.000000   \n",
       "fare                     0.255290  0.548193  0.122202  0.160887  0.217532   \n",
       "adult_male               0.555520  0.090098  0.245941  0.255401  0.351945   \n",
       "alone                    0.206207  0.138553  0.163792  0.584186  0.583112   \n",
       "sex_male                 0.541585  0.127741  0.083865  0.116348  0.247508   \n",
       "who_man                  0.555520  0.090098  0.245941  0.255401  0.351945   \n",
       "who_woman                0.504460  0.172640  0.086793  0.048824  0.152210   \n",
       "embark_town_Queenstown   0.004536  0.220558  0.081529  0.026692  0.081585   \n",
       "embark_town_Southampton  0.151777  0.076466  0.013056  0.069438  0.061512   \n",
       "\n",
       "                             fare  adult_male     alone  sex_male   who_man  \\\n",
       "survived                 0.255290    0.555520  0.206207  0.541585  0.555520   \n",
       "pclass                   0.548193    0.090098  0.138553  0.127741  0.090098   \n",
       "age                      0.122202    0.245941  0.163792  0.083865  0.245941   \n",
       "sibsp                    0.160887    0.255401  0.584186  0.116348  0.255401   \n",
       "parch                    0.217532    0.351945  0.583112  0.247508  0.351945   \n",
       "fare                     1.000000    0.179851  0.274079  0.179958  0.179851   \n",
       "adult_male               0.179851    1.000000  0.407992  0.908250  1.000000   \n",
       "alone                    0.274079    0.407992  1.000000  0.306985  0.407992   \n",
       "sex_male                 0.179958    0.908250  0.306985  1.000000  0.908250   \n",
       "who_man                  0.179851    1.000000  0.407992  0.908250  1.000000   \n",
       "who_woman                0.188650    0.813572  0.214510  0.895758  0.813572   \n",
       "embark_town_Queenstown   0.116684    0.077783  0.087099  0.075217  0.077783   \n",
       "embark_town_Southampton  0.163758    0.108062  0.027982  0.121405  0.108062   \n",
       "\n",
       "                         who_woman  embark_town_Queenstown  \\\n",
       "survived                  0.504460                0.004536   \n",
       "pclass                    0.172640                0.220558   \n",
       "age                       0.086793                0.081529   \n",
       "sibsp                     0.048824                0.026692   \n",
       "parch                     0.152210                0.081585   \n",
       "fare                      0.188650                0.116684   \n",
       "adult_male                0.813572                0.077783   \n",
       "alone                     0.214510                0.087099   \n",
       "sex_male                  0.895758                0.075217   \n",
       "who_man                   0.813572                0.077783   \n",
       "who_woman                 1.000000                0.101864   \n",
       "embark_town_Queenstown    0.101864                1.000000   \n",
       "embark_town_Southampton   0.114353                0.499261   \n",
       "\n",
       "                         embark_town_Southampton  \n",
       "survived                                0.151777  \n",
       "pclass                                  0.076466  \n",
       "age                                     0.013056  \n",
       "sibsp                                   0.069438  \n",
       "parch                                   0.061512  \n",
       "fare                                    0.163758  \n",
       "adult_male                              0.108062  \n",
       "alone                                   0.027982  \n",
       "sex_male                                0.121405  \n",
       "who_man                                 0.108062  \n",
       "who_woman                               0.114353  \n",
       "embark_town_Queenstown                  0.499261  \n",
       "embark_town_Southampton                 1.000000  "
      ]
     },
     "execution_count": 167,
     "metadata": {},
     "output_type": "execute_result"
    }
   ],
   "source": [
    "# Calculate the correlation matrix\n",
    "corr_matrix = df.corr().abs()\n",
    "corr_matrix"
   ]
  },
  {
   "cell_type": "code",
   "execution_count": 169,
   "id": "690f087a-75bd-4922-98e8-f7406d4eab97",
   "metadata": {},
   "outputs": [],
   "source": [
    "# Select upper triangle of correlation matrix\n",
    "upper = corr_matrix.where(np.triu(np.ones(corr_matrix.shape), k=1).astype(bool))"
   ]
  },
  {
   "cell_type": "code",
   "execution_count": 171,
   "id": "18729faa-2478-4cf9-80b4-b6738edebba8",
   "metadata": {},
   "outputs": [],
   "source": [
    "# Find features with correlation greater than 0.8\n",
    "to_drop = [column for column in upper.columns if any(upper[column] > 0.8)]"
   ]
  },
  {
   "cell_type": "code",
   "execution_count": 173,
   "id": "f2507157-0c7d-4f79-bc41-110d70709dac",
   "metadata": {},
   "outputs": [
    {
     "name": "stdout",
     "output_type": "stream",
     "text": [
      "Highly correlated variables: ['sex_male', 'who_man', 'who_woman']\n"
     ]
    }
   ],
   "source": [
    "print(\"Highly correlated variables:\", to_drop)"
   ]
  },
  {
   "cell_type": "raw",
   "id": "07082d38-86df-4792-8287-de65390aa0da",
   "metadata": {},
   "source": [
    "We can drop any 2 since sex_male implies who_man which negates who_woman\n",
    "Let's drop \"who_man\" and \"who_woman\""
   ]
  },
  {
   "cell_type": "code",
   "execution_count": 175,
   "id": "90e3efa8-4cc9-4d15-b00f-b866293ccb93",
   "metadata": {},
   "outputs": [],
   "source": [
    "columns_to_drop = [\"who_man\", \"who_woman\", \"embark_town_Queenstown\", \"sibsp\", \"age\", \"parch\"]\n",
    "df.drop(columns_to_drop, axis = 1, inplace = True)"
   ]
  },
  {
   "cell_type": "code",
   "execution_count": 177,
   "id": "7d7d0642-44cd-4e37-88cf-c1feb35ecf6f",
   "metadata": {},
   "outputs": [
    {
     "data": {
      "text/html": [
       "<div>\n",
       "<style scoped>\n",
       "    .dataframe tbody tr th:only-of-type {\n",
       "        vertical-align: middle;\n",
       "    }\n",
       "\n",
       "    .dataframe tbody tr th {\n",
       "        vertical-align: top;\n",
       "    }\n",
       "\n",
       "    .dataframe thead th {\n",
       "        text-align: right;\n",
       "    }\n",
       "</style>\n",
       "<table border=\"1\" class=\"dataframe\">\n",
       "  <thead>\n",
       "    <tr style=\"text-align: right;\">\n",
       "      <th></th>\n",
       "      <th>survived</th>\n",
       "      <th>pclass</th>\n",
       "      <th>fare</th>\n",
       "      <th>adult_male</th>\n",
       "      <th>alone</th>\n",
       "      <th>sex_male</th>\n",
       "      <th>embark_town_Southampton</th>\n",
       "    </tr>\n",
       "  </thead>\n",
       "  <tbody>\n",
       "    <tr>\n",
       "      <th>0</th>\n",
       "      <td>0</td>\n",
       "      <td>3</td>\n",
       "      <td>7.2500</td>\n",
       "      <td>True</td>\n",
       "      <td>False</td>\n",
       "      <td>True</td>\n",
       "      <td>True</td>\n",
       "    </tr>\n",
       "    <tr>\n",
       "      <th>1</th>\n",
       "      <td>1</td>\n",
       "      <td>1</td>\n",
       "      <td>71.2833</td>\n",
       "      <td>False</td>\n",
       "      <td>False</td>\n",
       "      <td>False</td>\n",
       "      <td>False</td>\n",
       "    </tr>\n",
       "    <tr>\n",
       "      <th>2</th>\n",
       "      <td>1</td>\n",
       "      <td>3</td>\n",
       "      <td>7.9250</td>\n",
       "      <td>False</td>\n",
       "      <td>True</td>\n",
       "      <td>False</td>\n",
       "      <td>True</td>\n",
       "    </tr>\n",
       "    <tr>\n",
       "      <th>3</th>\n",
       "      <td>1</td>\n",
       "      <td>1</td>\n",
       "      <td>53.1000</td>\n",
       "      <td>False</td>\n",
       "      <td>False</td>\n",
       "      <td>False</td>\n",
       "      <td>True</td>\n",
       "    </tr>\n",
       "    <tr>\n",
       "      <th>4</th>\n",
       "      <td>0</td>\n",
       "      <td>3</td>\n",
       "      <td>8.0500</td>\n",
       "      <td>True</td>\n",
       "      <td>True</td>\n",
       "      <td>True</td>\n",
       "      <td>True</td>\n",
       "    </tr>\n",
       "  </tbody>\n",
       "</table>\n",
       "</div>"
      ],
      "text/plain": [
       "   survived  pclass     fare  adult_male  alone  sex_male  \\\n",
       "0         0       3   7.2500        True  False      True   \n",
       "1         1       1  71.2833       False  False     False   \n",
       "2         1       3   7.9250       False   True     False   \n",
       "3         1       1  53.1000       False  False     False   \n",
       "4         0       3   8.0500        True   True      True   \n",
       "\n",
       "   embark_town_Southampton  \n",
       "0                     True  \n",
       "1                    False  \n",
       "2                     True  \n",
       "3                     True  \n",
       "4                     True  "
      ]
     },
     "execution_count": 177,
     "metadata": {},
     "output_type": "execute_result"
    }
   ],
   "source": [
    "df.head()"
   ]
  },
  {
   "cell_type": "code",
   "execution_count": 179,
   "id": "1094f6c8-a5b2-4bd3-a1bc-6f9c2a5768aa",
   "metadata": {},
   "outputs": [
    {
     "name": "stdout",
     "output_type": "stream",
     "text": [
      "<class 'pandas.core.frame.DataFrame'>\n",
      "Index: 889 entries, 0 to 890\n",
      "Data columns (total 7 columns):\n",
      " #   Column                   Non-Null Count  Dtype  \n",
      "---  ------                   --------------  -----  \n",
      " 0   survived                 889 non-null    int64  \n",
      " 1   pclass                   889 non-null    int64  \n",
      " 2   fare                     889 non-null    float64\n",
      " 3   adult_male               889 non-null    bool   \n",
      " 4   alone                    889 non-null    bool   \n",
      " 5   sex_male                 889 non-null    bool   \n",
      " 6   embark_town_Southampton  889 non-null    bool   \n",
      "dtypes: bool(4), float64(1), int64(2)\n",
      "memory usage: 31.3 KB\n"
     ]
    }
   ],
   "source": [
    "df.info()"
   ]
  },
  {
   "cell_type": "code",
   "execution_count": null,
   "id": "1f97cae1-d973-481d-8844-c2728c962e18",
   "metadata": {},
   "outputs": [],
   "source": []
  },
  {
   "cell_type": "code",
   "execution_count": null,
   "id": "97e933b0-4b42-4bff-9dc7-bb2b84ac1792",
   "metadata": {},
   "outputs": [],
   "source": []
  },
  {
   "cell_type": "code",
   "execution_count": null,
   "id": "75bc6e01-12b9-4d42-a384-6a46e62c9d96",
   "metadata": {},
   "outputs": [],
   "source": []
  },
  {
   "cell_type": "code",
   "execution_count": null,
   "id": "dfb57668-b1b1-4ad1-8730-3b66fbebb35d",
   "metadata": {},
   "outputs": [],
   "source": []
  },
  {
   "cell_type": "code",
   "execution_count": null,
   "id": "b652ea95-95f1-4ec4-ba28-ac6c7178a462",
   "metadata": {},
   "outputs": [],
   "source": []
  },
  {
   "cell_type": "code",
   "execution_count": null,
   "id": "8d1779d2-7cee-4b11-a50c-06750448347f",
   "metadata": {},
   "outputs": [],
   "source": []
  },
  {
   "cell_type": "code",
   "execution_count": null,
   "id": "eb6d63dc-04db-44ea-90ca-5f801553b0d9",
   "metadata": {},
   "outputs": [],
   "source": []
  },
  {
   "cell_type": "code",
   "execution_count": null,
   "id": "e7eed819-4915-4cd9-adde-6f3db570b293",
   "metadata": {},
   "outputs": [],
   "source": []
  }
 ],
 "metadata": {
  "kernelspec": {
   "display_name": "Python 3 (ipykernel)",
   "language": "python",
   "name": "python3"
  },
  "language_info": {
   "codemirror_mode": {
    "name": "ipython",
    "version": 3
   },
   "file_extension": ".py",
   "mimetype": "text/x-python",
   "name": "python",
   "nbconvert_exporter": "python",
   "pygments_lexer": "ipython3",
   "version": "3.11.7"
  }
 },
 "nbformat": 4,
 "nbformat_minor": 5
}
